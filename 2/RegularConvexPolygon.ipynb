{
 "cells": [
  {
   "cell_type": "code",
   "execution_count": 110,
   "metadata": {},
   "outputs": [],
   "source": [
    "from math import sin, cos, pi\n",
    "class Polygon:\n",
    "    def __init__(self, n, r):\n",
    "        if n < 3:\n",
    "            raise ValueError('Polygon must be greather then 2')\n",
    "        self._n = n\n",
    "        self._r = r\n",
    "   \n",
    "    def __repr__(self):\n",
    "        return f'Polygon(n={self._n}, r={self._r})'\n",
    "    \n",
    "    @property\n",
    "    def count_vertices(self):\n",
    "        return self._n\n",
    "    \n",
    "    @property\n",
    "    def circumradius(self):\n",
    "        return self._r\n",
    "    \n",
    "    @property\n",
    "    def count_edges(self):\n",
    "        return self._n\n",
    "    \n",
    "    @property\n",
    "    def interior_angle(self):\n",
    "        return (self._n - 2) * 180 / self._n\n",
    "    \n",
    "    @property\n",
    "    def side_length(self):\n",
    "          return 2*self._r * sin(pi/self._n)\n",
    "    \n",
    "    @property\n",
    "    def apothem(self):\n",
    "        return self._r * cos(pi/ self._n)\n",
    "    \n",
    "    @property\n",
    "    def area(self):\n",
    "        return 0.5 * self._n * self.apothem\n",
    "    \n",
    "    @property\n",
    "    def perimeter(self):\n",
    "        return self._n *self.side_length"
   ]
  },
  {
   "cell_type": "code",
   "execution_count": 109,
   "metadata": {},
   "outputs": [
    {
     "name": "stdout",
     "output_type": "stream",
     "text": [
      "---------------------\n",
      "Test 0\n",
      "Test 0 passed\n",
      "---------------------\n",
      "Test 1 started\n",
      "Test 1 passed\n",
      "---------------------\n",
      "Test 2 started\n"
     ]
    }
   ],
   "source": [
    "# Unit test\n",
    "\n",
    "def test_polygon():\n",
    "   print('---------------------')\n",
    "   \n",
    "   try:\n",
    "       print('Test 0')\n",
    "       \n",
    "       # 0\n",
    "       n = 2\n",
    "       r = 10\n",
    "       p0 = Polygon(n, r)\n",
    "       assert False, (\"Creating a Polygon with 2 sides: \"\n",
    "                      \" Exception expected, but not recieved\")\n",
    "   except AssertionError as e:\n",
    "       print(\"Test 0 failed: \", e)\n",
    "   except ValueError as e:\n",
    "       if str(e) == \"Polygon must be greather then 2\":\n",
    "           print(\"Test 0 passed\")\n",
    "       else:\n",
    "         print(\"Test 0 failed, don't recieve correct error\")\n",
    "           \n",
    "       \n",
    "   print('---------------------')\n",
    "       \n",
    "   print(\"Test 1 started\")\n",
    "   try: \n",
    "    # 1\n",
    "    n = 3\n",
    "    r = 10\n",
    "    p1 = Polygon(3, 10)\n",
    "    assert str(p1) == f'Polygon(n={n}, r={r})', f'\"Test 1 __repr__ failed:\" actual:str({p1})'\n",
    "    assert p1.count_vertices == n, f'Test 0 get vertices fialed - actual: {p1.count_vertices}'\n",
    "    assert p1.count_edges == n, f'Test 0 get edges fialed - actual: {p1.count_edges}'\n",
    "    assert p1.circumradius == r, f'Test 0 get radius fialed - actual: {p1.circumradius}'\n",
    "    \n",
    "   except AssertionError as e:\n",
    "       print(e)\n",
    "   else:\n",
    "       print(\"Test 1 passed\")\n",
    "   print('---------------------')\n",
    "\n",
    "   print(\"Test 2 started\")\n",
    "\n",
    "test_polygon()\n"
   ]
  },
  {
   "cell_type": "code",
   "execution_count": 90,
   "metadata": {},
   "outputs": [
    {
     "ename": "ValueError",
     "evalue": "Polygon must be greather then 2",
     "output_type": "error",
     "traceback": [
      "\u001b[1;31m---------------------------------------------------------------------------\u001b[0m",
      "\u001b[1;31mValueError\u001b[0m                                Traceback (most recent call last)",
      "Cell \u001b[1;32mIn[90], line 1\u001b[0m\n\u001b[1;32m----> 1\u001b[0m p \u001b[38;5;241m=\u001b[39m\u001b[43mPolygon\u001b[49m\u001b[43m(\u001b[49m\u001b[38;5;241;43m2\u001b[39;49m\u001b[43m,\u001b[49m\u001b[38;5;241;43m3\u001b[39;49m\u001b[43m)\u001b[49m\n",
      "Cell \u001b[1;32mIn[85], line 4\u001b[0m, in \u001b[0;36mPolygon.__init__\u001b[1;34m(self, n, r)\u001b[0m\n\u001b[0;32m      2\u001b[0m \u001b[38;5;28;01mdef\u001b[39;00m \u001b[38;5;21m__init__\u001b[39m(\u001b[38;5;28mself\u001b[39m, n, r):\n\u001b[0;32m      3\u001b[0m     \u001b[38;5;28;01mif\u001b[39;00m n \u001b[38;5;241m<\u001b[39m \u001b[38;5;241m3\u001b[39m:\n\u001b[1;32m----> 4\u001b[0m         \u001b[38;5;28;01mraise\u001b[39;00m \u001b[38;5;167;01mValueError\u001b[39;00m(\u001b[38;5;124m'\u001b[39m\u001b[38;5;124mPolygon must be greather then 2\u001b[39m\u001b[38;5;124m'\u001b[39m)\n\u001b[0;32m      5\u001b[0m     \u001b[38;5;28mself\u001b[39m\u001b[38;5;241m.\u001b[39m_n \u001b[38;5;241m=\u001b[39m n\n\u001b[0;32m      6\u001b[0m     \u001b[38;5;28mself\u001b[39m\u001b[38;5;241m.\u001b[39m_r \u001b[38;5;241m=\u001b[39m r\n",
      "\u001b[1;31mValueError\u001b[0m: Polygon must be greather then 2"
     ]
    }
   ],
   "source": [
    "p =Polygon(2,3)"
   ]
  },
  {
   "cell_type": "code",
   "execution_count": 17,
   "metadata": {},
   "outputs": [],
   "source": [
    "from math import sin, cos, pi\n",
    "\n",
    "class RegularConvexPolygon:\n",
    "    def __init__(self, *params) -> None:\n",
    "        self._pols = params\n",
    "   \n",
    "    def __repr__(self) -> str:\n",
    "        pols_str = [pol for pol in self._pols]\n",
    "        return f'RegularConvexPolygon({pols_str})'\n",
    "    # def vertices(self):\n",
    "    #     return self._vertices\n",
    "     \n",
    "    # def edges(self): \n",
    "    #     return 2*self._vertices\n",
    "    \n",
    "    # def edge_length(self):\n",
    "    #    return 2*self._radius * sin(pi/self._vertices)\n",
    "    \n",
    "    # def apothem(self):\n",
    "    #     return self._radius * cos(pi/ self._vertices)\n",
    "    \n",
    "    # def area(self):\n",
    "    #     return 0.5 * self._vertices * self.apothem()\n",
    "    \n",
    "    # def perimeter(self):\n",
    "    #     return self._vertices *self.edge_length()\n",
    "\n",
    "    # def interior_angle(self):\n",
    "    #     return (self._vertices - 2) * 180 / self._vertices\n",
    "\n",
    "    # def __getitem(self, s):\n",
    "    #     return\n",
    "    \n",
    "    # def __gt__(self, other):\n",
    "    #     if isinstance(other, RegularConvexPolygon):\n",
    "    #         return self.area() > other.area()\n",
    "\n",
    "    # def __eq__(self, other) -> bool:\n",
    "    #     if isinstance(other, RegularConvexPolygon):\n",
    "    #         if (other.vertices() == self.vertices()) and (other._radius == self._radius):\n",
    "    #             return True\n",
    "    #         else: return False\n",
    "\n",
    "    # def __repr__(self) -> str:\n",
    "    #     return f'RegularConvexPolygon(vertices={self._vertices}, radius={self._radius})'"
   ]
  },
  {
   "cell_type": "code",
   "execution_count": 22,
   "metadata": {},
   "outputs": [
    {
     "ename": "AssertionError",
     "evalue": "1 is not equal to 0",
     "output_type": "error",
     "traceback": [
      "\u001b[1;31m---------------------------------------------------------------------------\u001b[0m",
      "\u001b[1;31mAssertionError\u001b[0m                            Traceback (most recent call last)",
      "Cell \u001b[1;32mIn[22], line 1\u001b[0m\n\u001b[1;32m----> 1\u001b[0m \u001b[38;5;28;01massert\u001b[39;00m \u001b[38;5;241m1\u001b[39m \u001b[38;5;241m==\u001b[39m \u001b[38;5;241m0\u001b[39m, \u001b[38;5;124m\"\u001b[39m\u001b[38;5;124m1 is not equal to 0\u001b[39m\u001b[38;5;124m\"\u001b[39m\n",
      "\u001b[1;31mAssertionError\u001b[0m: 1 is not equal to 0"
     ]
    }
   ],
   "source": [
    "assert 1 == 0, \"1 is not equal to 0\""
   ]
  },
  {
   "cell_type": "code",
   "execution_count": 18,
   "metadata": {},
   "outputs": [],
   "source": [
    "r = RegularConvexPolygon((3,10), (4,8))"
   ]
  },
  {
   "cell_type": "code",
   "execution_count": 19,
   "metadata": {},
   "outputs": [
    {
     "data": {
      "text/plain": [
       "RegularConvexPolygon([(3, 10), (4, 8)])"
      ]
     },
     "execution_count": 19,
     "metadata": {},
     "output_type": "execute_result"
    }
   ],
   "source": [
    "r"
   ]
  },
  {
   "cell_type": "code",
   "execution_count": 47,
   "metadata": {},
   "outputs": [],
   "source": [
    "r1 = RegularConvexPolygon(3, 10)\n",
    "r2 = RegularConvexPolygon(3, 10)"
   ]
  },
  {
   "cell_type": "code",
   "execution_count": 52,
   "metadata": {},
   "outputs": [
    {
     "name": "stdout",
     "output_type": "stream",
     "text": [
      "vertices:  3\n",
      "edges:  6\n",
      "edge length 17.32050807568877\n",
      "apothem:  5.000000000000001\n",
      "area 7.500000000000002\n",
      "perimeter:  51.96152422706631\n",
      "interior angel 60.0\n"
     ]
    },
    {
     "data": {
      "text/plain": [
       "False"
      ]
     },
     "execution_count": 52,
     "metadata": {},
     "output_type": "execute_result"
    }
   ],
   "source": [
    "print('vertices: ', r1.vertices())\n",
    "print('edges: ', r1.edges())\n",
    "print('edge length', r1.edge_length())\n",
    "print('apothem: ', r1.apothem())\n",
    "print('area', r2.area())\n",
    "print('perimeter: ', r1.perimeter())\n",
    "print('interior angel', r1.interior_angle())\n",
    "r1 == r2"
   ]
  },
  {
   "cell_type": "code",
   "execution_count": 19,
   "metadata": {},
   "outputs": [
    {
     "data": {
      "text/plain": [
       "<bound method RegularConverPolygon.edgessss of <__main__.RegularConverPolygon object at 0x00000246D7BDF860>>"
      ]
     },
     "execution_count": 19,
     "metadata": {},
     "output_type": "execute_result"
    }
   ],
   "source": [
    "r1.edgessss"
   ]
  }
 ],
 "metadata": {
  "kernelspec": {
   "display_name": "Python 3",
   "language": "python",
   "name": "python3"
  },
  "language_info": {
   "codemirror_mode": {
    "name": "ipython",
    "version": 3
   },
   "file_extension": ".py",
   "mimetype": "text/x-python",
   "name": "python",
   "nbconvert_exporter": "python",
   "pygments_lexer": "ipython3",
   "version": "3.12.2"
  }
 },
 "nbformat": 4,
 "nbformat_minor": 2
}
