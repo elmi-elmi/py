{
 "cells": [
  {
   "cell_type": "markdown",
   "metadata": {},
   "source": [
    "# Iterating Collections"
   ]
  },
  {
   "cell_type": "markdown",
   "metadata": {},
   "source": [
    "s = {1,2,3,4}"
   ]
  },
  {
   "cell_type": "markdown",
   "metadata": {},
   "source": []
  },
  {
   "cell_type": "code",
   "execution_count": 1,
   "metadata": {},
   "outputs": [
    {
     "name": "stdout",
     "output_type": "stream",
     "text": [
      "hi\n"
     ]
    }
   ],
   "source": [
    "print('hi')"
   ]
  },
  {
   "cell_type": "code",
   "execution_count": 4,
   "metadata": {},
   "outputs": [
    {
     "name": "stdout",
     "output_type": "stream",
     "text": [
      "2\n",
      "3\n",
      "x\n",
      "4\n"
     ]
    }
   ],
   "source": [
    "s = {'x',2,3,4}\n",
    "for i in s:\n",
    "    print(i)"
   ]
  },
  {
   "cell_type": "code",
   "execution_count": 20,
   "metadata": {},
   "outputs": [],
   "source": [
    "class Squares:\n",
    "    def __init__(self, length):\n",
    "        self.i = 0\n",
    "        self.length = length \n",
    "    def __next__(self):\n",
    "        print('Your __next__')\n",
    "        if self.i >= self.length:\n",
    "            raise StopIteration('Stop iteration error')\n",
    "        else:\n",
    "            square = self.i ** 2\n",
    "            self.i += 1\n",
    "            return square  "
   ]
  },
  {
   "cell_type": "code",
   "execution_count": 23,
   "metadata": {},
   "outputs": [
    {
     "name": "stdout",
     "output_type": "stream",
     "text": [
      "Your __next__\n",
      "0\n",
      "Your __next__\n",
      "1\n",
      "Your __next__\n",
      "4\n",
      "Your __next__\n",
      "9\n",
      "Your __next__\n",
      "16\n",
      "Your __next__\n",
      "Stop iteration error\n"
     ]
    }
   ],
   "source": [
    "s = Squares(5)\n",
    "# for _ in range(5):\n",
    "#    print(s.next_()) \n",
    "   \n",
    "while True:\n",
    "   try:\n",
    "        print(next(s))\n",
    "   except StopIteration as e:\n",
    "    print(e)\n",
    "    break"
   ]
  },
  {
   "cell_type": "code",
   "execution_count": 46,
   "metadata": {},
   "outputs": [],
   "source": [
    "class Squares:\n",
    "    def __init__(self, length):\n",
    "        self.length = length\n",
    "        self.i = 0\n",
    "    \n",
    "    def __next__(self):\n",
    "        print('__next__ called')\n",
    "        if self.i >= self.length:\n",
    "            print('here')\n",
    "            raise StopIteration(\"Stop Iteration\")\n",
    "        else:\n",
    "            print('1')\n",
    "            square = self.i ** 2\n",
    "            self.i += 1\n",
    "            return square\n",
    "        print('here2')\n",
    "        \n",
    "    def __iter__(self):\n",
    "        print('__iter__ called')\n",
    "        \n",
    "        return self\n",
    "        "
   ]
  },
  {
   "cell_type": "code",
   "execution_count": 47,
   "metadata": {},
   "outputs": [
    {
     "name": "stdout",
     "output_type": "stream",
     "text": [
      "__next__ called\n",
      "1\n",
      "0\n",
      "__next__ called\n",
      "1\n",
      "1\n",
      "__next__ called\n",
      "1\n",
      "4\n",
      "__next__ called\n",
      "1\n",
      "9\n",
      "__next__ called\n",
      "1\n",
      "16\n"
     ]
    }
   ],
   "source": [
    "s = Squares(5)\n",
    "\n",
    "for _ in range(5):\n",
    "    print(next(s))\n"
   ]
  },
  {
   "cell_type": "code",
   "execution_count": 48,
   "metadata": {},
   "outputs": [
    {
     "name": "stdout",
     "output_type": "stream",
     "text": [
      "__iter__ called\n",
      "__next__ called\n",
      "1\n",
      "0\n",
      "__next__ called\n",
      "1\n",
      "1\n",
      "__next__ called\n",
      "1\n",
      "4\n",
      "__next__ called\n",
      "1\n",
      "9\n",
      "__next__ called\n",
      "1\n",
      "16\n",
      "__next__ called\n",
      "here\n"
     ]
    }
   ],
   "source": [
    "s = Squares(5)\n",
    "for i in s:\n",
    "    print(i)"
   ]
  },
  {
   "cell_type": "code",
   "execution_count": 44,
   "metadata": {},
   "outputs": [
    {
     "name": "stdout",
     "output_type": "stream",
     "text": [
      "__next__ called\n",
      "__next__ called\n",
      "here\n"
     ]
    }
   ],
   "source": [
    "for i in s:\n",
    "    print(i)"
   ]
  },
  {
   "cell_type": "code",
   "execution_count": 83,
   "metadata": {},
   "outputs": [],
   "source": [
    "\n",
    "\n",
    "    \n",
    "class Cities:\n",
    "    def __init__(self):\n",
    "        self._cities = ['x', 'yield', 'zip']\n",
    "        self._index = 0\n",
    "    \n",
    "    def __len__(self):\n",
    "        return len(self._cities)\n",
    "    \n",
    "    def __iter__(self):\n",
    "        return self.CitiesIterator(self)\n",
    "    \n",
    "    \n",
    "    class CitiesIterator:\n",
    "        def __init__(self, cities_obj):\n",
    "            self._cities_obj = cities_obj\n",
    "            self.i = 0\n",
    "        \n",
    "        def __iter__(self):\n",
    "            return self\n",
    "        \n",
    "        def __next__(self):\n",
    "            if self.i >= len(self._cities_obj):\n",
    "                raise StopIteration\n",
    "            else:\n",
    "                city = self._cities_obj._cities[self.i]\n",
    "                self.i += 1\n",
    "                return city\n",
    "\n",
    "    \n",
    "    "
   ]
  },
  {
   "cell_type": "code",
   "execution_count": 84,
   "metadata": {},
   "outputs": [
    {
     "name": "stdout",
     "output_type": "stream",
     "text": [
      "x\n",
      "yield\n",
      "zip\n"
     ]
    }
   ],
   "source": [
    "city = Cities()\n",
    "# city_iterator = CitiesIterator(city)\n",
    "for i in city:\n",
    "    print(i)"
   ]
  },
  {
   "cell_type": "code",
   "execution_count": 85,
   "metadata": {},
   "outputs": [
    {
     "name": "stdout",
     "output_type": "stream",
     "text": [
      "x\n",
      "yield\n",
      "zip\n"
     ]
    }
   ],
   "source": [
    "for i in city:\n",
    "    print(i)"
   ]
  },
  {
   "cell_type": "code",
   "execution_count": 86,
   "metadata": {},
   "outputs": [
    {
     "data": {
      "text/plain": [
       "[(0, 'x'), (1, 'yield'), (2, 'zip')]"
      ]
     },
     "execution_count": 86,
     "metadata": {},
     "output_type": "execute_result"
    }
   ],
   "source": [
    "list(enumerate(city))"
   ]
  },
  {
   "cell_type": "code",
   "execution_count": 90,
   "metadata": {},
   "outputs": [
    {
     "data": {
      "text/plain": [
       "['yield', 'zip', 'x']"
      ]
     },
     "execution_count": 90,
     "metadata": {},
     "output_type": "execute_result"
    }
   ],
   "source": [
    "sorted(city, reverse=True, key=lambda x: len(x))"
   ]
  },
  {
   "cell_type": "code",
   "execution_count": null,
   "metadata": {},
   "outputs": [],
   "source": []
  }
 ],
 "metadata": {
  "kernelspec": {
   "display_name": "Python 3",
   "language": "python",
   "name": "python3"
  },
  "language_info": {
   "codemirror_mode": {
    "name": "ipython",
    "version": 3
   },
   "file_extension": ".py",
   "mimetype": "text/x-python",
   "name": "python",
   "nbconvert_exporter": "python",
   "pygments_lexer": "ipython3",
   "version": "3.12.2"
  }
 },
 "nbformat": 4,
 "nbformat_minor": 2
}
