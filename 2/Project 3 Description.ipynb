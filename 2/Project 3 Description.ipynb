{
 "cells": [
  {
   "cell_type": "markdown",
   "metadata": {},
   "source": [
    "### Project"
   ]
  },
  {
   "cell_type": "markdown",
   "metadata": {},
   "source": [
    "For this project you are given a file that contains some parking ticket violations for NYC.\n",
    "\n",
    "(It's just a tiny extract!)\n",
    "\n",
    "If you're wondering where I get these data sets, Kaggle is an **excellent** source of data sets in a whole variety of topics: \n",
    "https://www.kaggle.com/\n",
    "\n",
    "You have to sign up, but it's free.\n",
    "\n",
    "If you want the full data set, it's available here: https://www.kaggle.com/new-york-city/nyc-parking-tickets/version/2#"
   ]
  },
  {
   "cell_type": "markdown",
   "metadata": {},
   "source": [
    "For this sample data set, the file is named: \n",
    "```\n",
    "nyc_parking_tickets_extract.csv\n",
    "```"
   ]
  },
  {
   "cell_type": "markdown",
   "metadata": {},
   "source": [
    "Your goals are as follows:"
   ]
  },
  {
   "cell_type": "markdown",
   "metadata": {},
   "source": [
    "##### Goal 1\n",
    "Create a lazy iterator that will return a named tuple of the data in each row. The data types should be appropriate - i.e. if the column is a date, you should be storing dates in the named tuple, if the field is an integer, then it should be stored as an integer, etc."
   ]
  },
  {
   "cell_type": "markdown",
   "metadata": {},
   "source": [
    "##### Goal 2\n",
    "\n",
    "Calculate the number of violations by car make."
   ]
  },
  {
   "cell_type": "markdown",
   "metadata": {},
   "source": [
    "##### Note:\n",
    "Try to use lazy evaluation as much as possible - it may not always be possible though! That's OK, as long as it's kept to a minimum."
   ]
  },
  {
   "cell_type": "code",
   "execution_count": 9,
   "metadata": {
    "collapsed": true
   },
   "outputs": [
    {
     "name": "stdout",
     "output_type": "stream",
     "text": [
      "['summons_number', 'plate_id', 'registration_state', 'plate_type', 'issue_date', 'violation_code', 'vehicle_body_type', 'vehicle_make', 'violation_description']\n"
     ]
    },
    {
     "data": {
      "text/plain": [
       "[Tickets(summons_number=4006478550, plate_id='VAD7274', registration_state='VA', plate_type='PAS', issue_date=datetime.datetime(2016, 10, 5, 0, 0), violation_code=5, vehicle_body_type='4D', vehicle_make='BMW', violation_description='BUS LANE VIOLATION'),\n",
       " Tickets(summons_number=4006462396, plate_id='22834JK', registration_state='NY', plate_type='COM', issue_date=datetime.datetime(2016, 9, 30, 0, 0), violation_code=5, vehicle_body_type='VAN', vehicle_make='CHEVR', violation_description='BUS LANE VIOLATION'),\n",
       " Tickets(summons_number=4007117810, plate_id='21791MG', registration_state='NY', plate_type='COM', issue_date=datetime.datetime(2017, 4, 10, 0, 0), violation_code=5, vehicle_body_type='VAN', vehicle_make='DODGE', violation_description='BUS LANE VIOLATION'),\n",
       " Tickets(summons_number=4006265037, plate_id='FZX9232', registration_state='NY', plate_type='PAS', issue_date=datetime.datetime(2016, 8, 23, 0, 0), violation_code=5, vehicle_body_type='SUBN', vehicle_make='FORD', violation_description='BUS LANE VIOLATION'),\n",
       " Tickets(summons_number=4006535600, plate_id='N203399C', registration_state='NY', plate_type='OMT', issue_date=datetime.datetime(2016, 10, 19, 0, 0), violation_code=5, vehicle_body_type='SUBN', vehicle_make='FORD', violation_description='BUS LANE VIOLATION'),\n",
       " Tickets(summons_number=4007156700, plate_id='92163MG', registration_state='NY', plate_type='COM', issue_date=datetime.datetime(2017, 4, 13, 0, 0), violation_code=5, vehicle_body_type='VAN', vehicle_make='FRUEH', violation_description='BUS LANE VIOLATION'),\n",
       " Tickets(summons_number=4006687989, plate_id='MIQ600', registration_state='SC', plate_type='PAS', issue_date=datetime.datetime(2016, 11, 21, 0, 0), violation_code=5, vehicle_body_type='VN', vehicle_make='HONDA', violation_description='BUS LANE VIOLATION'),\n",
       " Tickets(summons_number=4006943052, plate_id='2AE3984', registration_state='MD', plate_type='PAS', issue_date=datetime.datetime(2017, 2, 1, 0, 0), violation_code=5, vehicle_body_type='SW', vehicle_make='LINCO', violation_description='BUS LANE VIOLATION'),\n",
       " Tickets(summons_number=4007306795, plate_id='HLG4926', registration_state='NY', plate_type='PAS', issue_date=datetime.datetime(2017, 5, 30, 0, 0), violation_code=5, vehicle_body_type='SUBN', vehicle_make='TOYOT', violation_description='BUS LANE VIOLATION'),\n",
       " Tickets(summons_number=4007124590, plate_id='T715907C', registration_state='NY', plate_type='OMT', issue_date=datetime.datetime(2017, 4, 3, 0, 0), violation_code=5, vehicle_body_type='SUBN', vehicle_make='TOYOT', violation_description='BUS LANE VIOLATION')]"
      ]
     },
     "execution_count": 9,
     "metadata": {},
     "output_type": "execute_result"
    }
   ],
   "source": [
    "from collections import namedtuple\n",
    "from datetime import datetime\n",
    "\n",
    "tickets  = []\n",
    "\n",
    "tickets_file_name = \"nyc_parking_tickets_extract.csv\"\n",
    "\n",
    "data_file = open(tickets_file_name)\n",
    "\n",
    "headers = next(data_file).strip('\\n').replace(' ', '_').lower().split(',')\n",
    "print(headers)\n",
    "\n",
    "# with open(data_name) as f:\n",
    "#     print(type(f))\n",
    "#     file = iter(f)\n",
    "#     headers = next(file).strip('\\n').replace(' ', '_').split(',')\n",
    "#     print(\"headers: \\n\", headers)\n",
    "\n",
    "def read_file(name):\n",
    "    with open(name) as f:\n",
    "        next(f)\n",
    "        yield from f\n",
    "\n",
    "\n",
    "Tickets = namedtuple(\"Tickets\", headers)\n",
    "\n",
    "def to_int(value):\n",
    "    return int(value)\n",
    "\n",
    "def to_str(value):\n",
    "    return str(value)\n",
    "\n",
    "date_format = '%m/%d/%Y'\n",
    "def to_date(value):\n",
    "    return datetime.strptime(value, date_format)\n",
    "funcs = [to_int, to_str, to_str,to_str, to_date, to_int,to_str,to_str,to_str]\n",
    "\n",
    "def parse_tickets(row):\n",
    "   return [func(data) for data, func in zip(row,funcs)]\n",
    "\n",
    "file = read_file(tickets_file_name)\n",
    "for _ in range(10):\n",
    "    row = next(file).strip('\\n').split(',')\n",
    "    parsed = parse_tickets(row)\n",
    "    # print(parsed)\n",
    "    tickets.append(Tickets(*parsed))\n",
    "\n",
    "data_file.close()\n",
    "\n",
    "tickets\n"
   ]
  },
  {
   "cell_type": "code",
   "execution_count": null,
   "metadata": {},
   "outputs": [],
   "source": []
  },
  {
   "cell_type": "code",
   "execution_count": 3,
   "metadata": {},
   "outputs": [
    {
     "ename": "SyntaxError",
     "evalue": "invalid syntax. Perhaps you forgot a comma? (1447813010.py, line 10)",
     "output_type": "error",
     "traceback": [
      "\u001b[1;36m  Cell \u001b[1;32mIn[3], line 10\u001b[1;36m\u001b[0m\n\u001b[1;33m    'BUS LANE VIOLATION' string\u001b[0m\n\u001b[1;37m    ^\u001b[0m\n\u001b[1;31mSyntaxError\u001b[0m\u001b[1;31m:\u001b[0m invalid syntax. Perhaps you forgot a comma?\n"
     ]
    }
   ],
   "source": [
    "[\n",
    "    '4006462396', int\n",
    "    '22834JK', string\n",
    "    'NY', string\n",
    "    'COM', string\n",
    "    '9/30/2016', date\n",
    "    '5', int\n",
    "    'VAN', string\n",
    "    'CHEVR', string\n",
    "    'BUS LANE VIOLATION' string\n",
    "]"
   ]
  },
  {
   "cell_type": "code",
   "execution_count": null,
   "metadata": {},
   "outputs": [],
   "source": []
  }
 ],
 "metadata": {
  "kernelspec": {
   "display_name": "Python 3",
   "language": "python",
   "name": "python3"
  },
  "language_info": {
   "codemirror_mode": {
    "name": "ipython",
    "version": 3
   },
   "file_extension": ".py",
   "mimetype": "text/x-python",
   "name": "python",
   "nbconvert_exporter": "python",
   "pygments_lexer": "ipython3",
   "version": "3.12.3"
  }
 },
 "nbformat": 4,
 "nbformat_minor": 2
}
