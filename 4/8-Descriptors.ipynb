{
 "cells": [
  {
   "cell_type": "code",
   "execution_count": 6,
   "metadata": {},
   "outputs": [
    {
     "data": {
      "text/plain": [
       "'2024-05-09T11:56:48.203122'"
      ]
     },
     "execution_count": 6,
     "metadata": {},
     "output_type": "execute_result"
    }
   ],
   "source": [
    "from datetime import datetime\n",
    "\n",
    "class TimeUTC:\n",
    "    def __get__(self, instance, owner_class):\n",
    "        return datetime.now().isoformat()\n",
    "\n",
    "\n",
    "class Logger:\n",
    "    currentTime = TimeUTC()\n",
    "\n",
    "\n",
    "t = Logger()\n",
    "\n",
    "t.currentTime\n",
    "    \n",
    "    "
   ]
  },
  {
   "cell_type": "code",
   "execution_count": 11,
   "metadata": {},
   "outputs": [
    {
     "name": "stdout",
     "output_type": "stream",
     "text": [
      "heart a\n",
      "heart 1\n",
      "club 9\n",
      "heart 7\n",
      "club 8\n",
      "club j\n",
      "diamon 9\n",
      "diamon 5\n",
      "diamon a\n",
      "spade j\n"
     ]
    }
   ],
   "source": [
    "from random import choice, seed\n",
    "\n",
    "class Deck:\n",
    "    @property\n",
    "    def card(self):\n",
    "        return choice(('spade', 'diamon', 'club', 'heart'))\n",
    "    \n",
    "    @property\n",
    "    def suit(self):\n",
    "        return choice((*tuple('123456789jqka'), '10'))\n",
    "\n",
    "d = Deck()\n",
    "\n",
    "seed(0)\n",
    "\n",
    "for _ in range(10):\n",
    "    print(d.card,d.suit)"
   ]
  },
  {
   "cell_type": "code",
   "execution_count": 10,
   "metadata": {},
   "outputs": [
    {
     "data": {
      "text/plain": [
       "(('1', '2', '3', '4', '5', '6', '7', '8', '9', 'j', 'q', 'k', 'a'), '10')"
      ]
     },
     "execution_count": 10,
     "metadata": {},
     "output_type": "execute_result"
    }
   ],
   "source": [
    "(tuple('123456789jqka'), '10')"
   ]
  },
  {
   "cell_type": "code",
   "execution_count": 13,
   "metadata": {},
   "outputs": [
    {
     "name": "stdout",
     "output_type": "stream",
     "text": [
      "diamond 9\n",
      "heart 5\n",
      "spade k\n",
      "spade 10\n",
      "diamond 8\n",
      "spade 6\n",
      "club 6\n",
      "heart 9\n",
      "club 8\n",
      "diamond 1\n"
     ]
    }
   ],
   "source": [
    "from random import choice, seed\n",
    "\n",
    "class Choice:\n",
    "    def __init__(self, *choices):\n",
    "        self.choices = choices\n",
    "    \n",
    "    def __get__(self, instance, owner_class):\n",
    "        return choice(self.choices)\n",
    "\n",
    "class Deck:\n",
    "    card = Choice('spade', 'heart', 'diamond', 'club')\n",
    "    suit = Choice(*'123456789jqka', '10')\n",
    "\n",
    "d = Deck\n",
    "\n",
    "for _ in range(10):\n",
    "    print(d.card, d.suit)     \n",
    "        "
   ]
  },
  {
   "cell_type": "code",
   "execution_count": 23,
   "metadata": {},
   "outputs": [
    {
     "name": "stdout",
     "output_type": "stream",
     "text": [
      "Logger1 class: \n",
      "\n",
      " self=<__main__.TimeUtc object at 0x000002486579FCB0> \n",
      " \n",
      " instance=None \n",
      " \n",
      " owner_class=<class '__main__.Logger1'> \n",
      "\n",
      "2024-05-09T12:41:11.364402\n",
      "-----------\n",
      "Logger2 class: \n",
      "\n",
      " self=<__main__.TimeUtc object at 0x00000248658349E0> \n",
      " \n",
      " instance=None \n",
      " \n",
      " owner_class=<class '__main__.Logger2'> \n",
      "\n",
      "2024-05-09T12:41:11.364402\n",
      "=========instance========\n",
      "l1: 0x2486579f980\n",
      "\n",
      " self=<__main__.TimeUtc object at 0x000002486579FCB0> \n",
      " \n",
      " instance=<__main__.Logger1 object at 0x000002486579F980> \n",
      " \n",
      " owner_class=<class '__main__.Logger1'> \n",
      "\n",
      "2024-05-09T12:41:11.364402\n",
      "l2: 0x24863da32c0\n",
      "\n",
      " self=<__main__.TimeUtc object at 0x00000248658349E0> \n",
      " \n",
      " instance=<__main__.Logger2 object at 0x0000024863DA32C0> \n",
      " \n",
      " owner_class=<class '__main__.Logger2'> \n",
      "\n",
      "2024-05-09T12:41:11.364402\n"
     ]
    }
   ],
   "source": [
    "from datetime import datetime\n",
    "\n",
    "class TimeUtc:\n",
    "    def __get__(self, instance, owner_class):\n",
    "        print(f'\\n self={self} \\n \\n instance={instance} \\n \\n owner_class={owner_class} \\n')\n",
    "        return datetime.now().isoformat()\n",
    "\n",
    "class Logger1:\n",
    "    current_time = TimeUtc()\n",
    "\n",
    "class Logger2:\n",
    "    current_time = TimeUtc()\n",
    "    \n",
    "print(\"Logger1 class: \")\n",
    "print(Logger1.current_time)\n",
    "print('-----------')\n",
    "print(\"Logger2 class: \")\n",
    "print(Logger2.current_time)\n",
    "\n",
    "print('=========instance========')\n",
    "l1 = Logger1()\n",
    "l2 = Logger2()\n",
    "print('l1:', hex(id(l1)))\n",
    "print(l1.current_time)\n",
    "print('l2:', hex(id(l2)))\n",
    "print(l2.current_time)"
   ]
  },
  {
   "cell_type": "code",
   "execution_count": 31,
   "metadata": {},
   "outputs": [
    {
     "name": "stdout",
     "output_type": "stream",
     "text": [
      "<__main__.TimeUTC object at 0x00000248657E17F0>\n",
      "2024-05-09T12:50:40.013749\n",
      "<property object at 0x0000024866687E20>\n",
      "2024-05-09T12:50:40.013749\n"
     ]
    }
   ],
   "source": [
    "from datetime import datetime\n",
    "class TimeUTC:\n",
    "    def __get__(self, instance, owner_class):\n",
    "        if instance is None:\n",
    "            return self\n",
    "        else: \n",
    "           return datetime.now().isoformat()\n",
    "\n",
    "class Logger:\n",
    "    current_time = TimeUTC()\n",
    "\n",
    "\n",
    "print(Logger.current_time) \n",
    "l = Logger()\n",
    "print(l.current_time)\n",
    "\n",
    "\n",
    "class L:\n",
    "    @property\n",
    "    def current_time(self):\n",
    "        return datetime.now().isoformat()\n",
    "\n",
    "print(L.current_time)\n",
    "ll = L()\n",
    "print(ll.current_time)\n"
   ]
  },
  {
   "cell_type": "code",
   "execution_count": 34,
   "metadata": {},
   "outputs": [
    {
     "name": "stdout",
     "output_type": "stream",
     "text": [
      "10\n",
      "9\n"
     ]
    }
   ],
   "source": [
    "class Countdown:\n",
    "    def __init__(self, start):\n",
    "        self.start = start + 1\n",
    "    \n",
    "    def __get__(self, instance, owner_class):\n",
    "        if instance is None:\n",
    "            return self\n",
    "        self.start -= 1\n",
    "        return self.start\n",
    "\n",
    "class Rocket:\n",
    "    countdown = Countdown(10)\n",
    "\n",
    "r1 = Rocket()\n",
    "r2 = Rocket()\n",
    "\n",
    "print(r1.countdown)\n",
    "print(r2.countdown)"
   ]
  },
  {
   "cell_type": "code",
   "execution_count": 35,
   "metadata": {},
   "outputs": [
    {
     "name": "stdout",
     "output_type": "stream",
     "text": [
      "10\n"
     ]
    }
   ],
   "source": [
    "class IntegerValue:\n",
    "    def __set__(self, instance, value):\n",
    "        self._value= value\n",
    "    \n",
    "    def __get__(self, instance, owner_class):\n",
    "        if instance is None:\n",
    "            return self\n",
    "        return self._value\n",
    "\n",
    "\n",
    "class Point2D:\n",
    "    x = IntegerValue()\n",
    "    y = IntegerValue()\n",
    "\n",
    "\n",
    "p1 = Point2D()\n",
    "p2 = Point2D()\n",
    "\n",
    "p1.x = 10\n",
    "print(p2.x)"
   ]
  },
  {
   "cell_type": "code",
   "execution_count": 44,
   "metadata": {},
   "outputs": [
    {
     "name": "stdout",
     "output_type": "stream",
     "text": [
      "2\n",
      "1\n",
      "p3 1\n",
      "<weakref at 0x0000024866911620; dead>\n"
     ]
    }
   ],
   "source": [
    "import ctypes\n",
    "\n",
    "def ref_count(address):\n",
    "    return ctypes.c_long.from_address(address).value\n",
    "\n",
    "class Person:\n",
    "    def __init__(self, name):\n",
    "        self.name = name\n",
    "    \n",
    "    def __repr__(self):\n",
    "        return f'Person(name={self.name})'\n",
    "\n",
    "p1 = Person('Shahrokh')\n",
    "p2 = p1\n",
    "\n",
    "print(ref_count(id(p1)))\n",
    "\n",
    "del p1\n",
    "\n",
    "print(ref_count(id(p2)))\n",
    "\n",
    "import weakref\n",
    "\n",
    "p3 = Person('WeakShahrokh')\n",
    "id_p3 = id(p3)\n",
    "\n",
    "p3_weak = weakref.ref(p3)\n",
    "print('p3',ref_count(id_p3))\n",
    "\n",
    "p3_weak() is p3\n",
    "del p3\n",
    "print(p3_weak)"
   ]
  },
  {
   "cell_type": "code",
   "execution_count": 45,
   "metadata": {},
   "outputs": [
    {
     "name": "stdout",
     "output_type": "stream",
     "text": [
      "1\n",
      "1\n"
     ]
    }
   ],
   "source": [
    "p4 = Person('shahaokh')\n",
    "d = weakref.WeakKeyDictionary()\n",
    "\n",
    "print(ref_count(id(p4)))\n",
    "d[p4] = 'hi there'\n",
    "print(ref_count(id(p4)))"
   ]
  },
  {
   "cell_type": "code",
   "execution_count": 46,
   "metadata": {},
   "outputs": [
    {
     "data": {
      "text/plain": [
       "<WeakKeyDictionary at 0x24865c0a240>"
      ]
     },
     "execution_count": 46,
     "metadata": {},
     "output_type": "execute_result"
    }
   ],
   "source": [
    "d\n"
   ]
  },
  {
   "cell_type": "code",
   "execution_count": 47,
   "metadata": {},
   "outputs": [
    {
     "data": {
      "text/plain": [
       "1"
      ]
     },
     "execution_count": 47,
     "metadata": {},
     "output_type": "execute_result"
    }
   ],
   "source": [
    "1"
   ]
  },
  {
   "cell_type": "code",
   "execution_count": 63,
   "metadata": {},
   "outputs": [
    {
     "name": "stdout",
     "output_type": "stream",
     "text": [
      "hex id p1:  0x24865c0c860\n",
      "p1.x : 10\n",
      "Point.x.values.keyrefs:  [<weakref at 0x0000024866910B30; to 'Point' at 0x0000024865C0C860>]\n"
     ]
    }
   ],
   "source": [
    "import weakref\n",
    "\n",
    "class IntegerValue:\n",
    "    def __init__(self):\n",
    "        self.values = weakref.WeakKeyDictionary()\n",
    "    \n",
    "    def __set__(self, instance, value):\n",
    "        self.values[instance] = int(value)\n",
    "    \n",
    "    def __get__(self, instance, owner_class):\n",
    "        if instance is None:\n",
    "            return self\n",
    "        else:return self.values.get(instance)\n",
    "\n",
    "class Point:\n",
    "    x = IntegerValue()\n",
    "\n",
    "p1 = Point()\n",
    "\n",
    "print('hex id p1: ', hex(id(p1)))\n",
    "\n",
    "p1.x = 10.1\n",
    "\n",
    "print('p1.x :', p1.x)\n",
    "\n",
    "print('Point.x.values.keyrefs: ', Point.x.values.keyrefs())"
   ]
  },
  {
   "cell_type": "code",
   "execution_count": null,
   "metadata": {},
   "outputs": [],
   "source": []
  }
 ],
 "metadata": {
  "kernelspec": {
   "display_name": "Python 3",
   "language": "python",
   "name": "python3"
  },
  "language_info": {
   "codemirror_mode": {
    "name": "ipython",
    "version": 3
   },
   "file_extension": ".py",
   "mimetype": "text/x-python",
   "name": "python",
   "nbconvert_exporter": "python",
   "pygments_lexer": "ipython3",
   "version": "3.12.3"
  }
 },
 "nbformat": 4,
 "nbformat_minor": 2
}
