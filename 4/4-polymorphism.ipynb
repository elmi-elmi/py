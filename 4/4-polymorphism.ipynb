{
 "cells": [
  {
   "cell_type": "code",
   "execution_count": 4,
   "metadata": {},
   "outputs": [],
   "source": [
    "class Person:\n",
    "    def __init__(self, name, age):\n",
    "        self.name = name\n",
    "        self.age = age\n",
    "    \n",
    "    def __repr__(self):\n",
    "        print('__repr__ called')\n",
    "        return f\"Peson(name='{self.name}', age={self.age})\""
   ]
  },
  {
   "cell_type": "code",
   "execution_count": 5,
   "metadata": {},
   "outputs": [],
   "source": [
    "p = Person('Python', 30)"
   ]
  },
  {
   "cell_type": "code",
   "execution_count": 6,
   "metadata": {},
   "outputs": [
    {
     "name": "stdout",
     "output_type": "stream",
     "text": [
      "__repr__ called\n"
     ]
    },
    {
     "data": {
      "text/plain": [
       "Peson(name='Python', age=30)"
      ]
     },
     "execution_count": 6,
     "metadata": {},
     "output_type": "execute_result"
    }
   ],
   "source": [
    "p"
   ]
  },
  {
   "cell_type": "code",
   "execution_count": 7,
   "metadata": {},
   "outputs": [
    {
     "name": "stdout",
     "output_type": "stream",
     "text": [
      "__repr__ called\n",
      "Peson(name='Python', age=30)\n"
     ]
    }
   ],
   "source": [
    "print(p)"
   ]
  },
  {
   "cell_type": "code",
   "execution_count": 8,
   "metadata": {},
   "outputs": [
    {
     "ename": "NameError",
     "evalue": "name 'sr' is not defined",
     "output_type": "error",
     "traceback": [
      "\u001b[1;31m---------------------------------------------------------------------------\u001b[0m",
      "\u001b[1;31mNameError\u001b[0m                                 Traceback (most recent call last)",
      "Cell \u001b[1;32mIn[8], line 1\u001b[0m\n\u001b[1;32m----> 1\u001b[0m \u001b[43msr\u001b[49m(p)\n",
      "\u001b[1;31mNameError\u001b[0m: name 'sr' is not defined"
     ]
    }
   ],
   "source": [
    "sr(p)"
   ]
  },
  {
   "cell_type": "code",
   "execution_count": 9,
   "metadata": {},
   "outputs": [
    {
     "name": "stdout",
     "output_type": "stream",
     "text": [
      "__repr__ called\n"
     ]
    },
    {
     "data": {
      "text/plain": [
       "\"Peson(name='Python', age=30)\""
      ]
     },
     "execution_count": 9,
     "metadata": {},
     "output_type": "execute_result"
    }
   ],
   "source": [
    "str(p)"
   ]
  },
  {
   "cell_type": "code",
   "execution_count": 10,
   "metadata": {},
   "outputs": [],
   "source": [
    "class Person:\n",
    "    def __init__(self, name, age):\n",
    "        self.name = name\n",
    "        self.age = age\n",
    "    \n",
    "    def __repr__(self):\n",
    "        print('__repr__ called')\n",
    "        return f\"Peson(name='{self.name}', age={self.age})\"\n",
    "    \n",
    "    def __str__(self):\n",
    "        print('__str__ called')\n",
    "        return self.name"
   ]
  },
  {
   "cell_type": "code",
   "execution_count": 11,
   "metadata": {},
   "outputs": [],
   "source": [
    "p = Person('Python', 30)"
   ]
  },
  {
   "cell_type": "code",
   "execution_count": 12,
   "metadata": {},
   "outputs": [
    {
     "name": "stdout",
     "output_type": "stream",
     "text": [
      "__repr__ called\n"
     ]
    },
    {
     "data": {
      "text/plain": [
       "Peson(name='Python', age=30)"
      ]
     },
     "execution_count": 12,
     "metadata": {},
     "output_type": "execute_result"
    }
   ],
   "source": [
    "p"
   ]
  },
  {
   "cell_type": "code",
   "execution_count": 13,
   "metadata": {},
   "outputs": [
    {
     "name": "stdout",
     "output_type": "stream",
     "text": [
      "__str__ called\n",
      "Python\n"
     ]
    }
   ],
   "source": [
    "print(p)"
   ]
  },
  {
   "cell_type": "code",
   "execution_count": 14,
   "metadata": {},
   "outputs": [
    {
     "name": "stdout",
     "output_type": "stream",
     "text": [
      "__str__ called\n"
     ]
    },
    {
     "data": {
      "text/plain": [
       "'Python'"
      ]
     },
     "execution_count": 14,
     "metadata": {},
     "output_type": "execute_result"
    }
   ],
   "source": [
    "str(p)"
   ]
  },
  {
   "cell_type": "code",
   "execution_count": 15,
   "metadata": {},
   "outputs": [
    {
     "name": "stdout",
     "output_type": "stream",
     "text": [
      "__repr__ called\n"
     ]
    },
    {
     "data": {
      "text/plain": [
       "\"Peson(name='Python', age=30)\""
      ]
     },
     "execution_count": 15,
     "metadata": {},
     "output_type": "execute_result"
    }
   ],
   "source": [
    "repr(p)"
   ]
  },
  {
   "cell_type": "code",
   "execution_count": 16,
   "metadata": {},
   "outputs": [],
   "source": [
    "class Person:\n",
    "    pass\n",
    "class Point:\n",
    "    pass\n",
    "\n"
   ]
  },
  {
   "cell_type": "code",
   "execution_count": 17,
   "metadata": {},
   "outputs": [],
   "source": [
    "person = Person()\n",
    "point = Point()"
   ]
  },
  {
   "cell_type": "code",
   "execution_count": 18,
   "metadata": {},
   "outputs": [
    {
     "data": {
      "text/plain": [
       "('<__main__.Person object at 0x000001E18DB17530>',\n",
       " '<__main__.Point object at 0x000001E18DB16F00>')"
      ]
     },
     "execution_count": 18,
     "metadata": {},
     "output_type": "execute_result"
    }
   ],
   "source": [
    "repr(person), repr(point)"
   ]
  },
  {
   "cell_type": "code",
   "execution_count": 19,
   "metadata": {},
   "outputs": [
    {
     "data": {
      "text/plain": [
       "('<__main__.Person object at 0x000001E18DB17530>',\n",
       " '<__main__.Point object at 0x000001E18DB16F00>')"
      ]
     },
     "execution_count": 19,
     "metadata": {},
     "output_type": "execute_result"
    }
   ],
   "source": [
    "str(person), str(point)"
   ]
  },
  {
   "cell_type": "code",
   "execution_count": 20,
   "metadata": {},
   "outputs": [],
   "source": [
    "class Person:\n",
    "    def __init__(self, name, age):\n",
    "        self.name = name\n",
    "        self.age = age\n",
    "    \n",
    "    \n",
    "    def __str__(self):\n",
    "        print('__str__ called')\n",
    "        return self.name"
   ]
  },
  {
   "cell_type": "code",
   "execution_count": 21,
   "metadata": {},
   "outputs": [],
   "source": [
    "p = Person('Python', 30)"
   ]
  },
  {
   "cell_type": "code",
   "execution_count": 22,
   "metadata": {},
   "outputs": [
    {
     "data": {
      "text/plain": [
       "'<__main__.Person object at 0x000001E18DB30410>'"
      ]
     },
     "execution_count": 22,
     "metadata": {},
     "output_type": "execute_result"
    }
   ],
   "source": [
    "repr(p)"
   ]
  },
  {
   "cell_type": "code",
   "execution_count": 23,
   "metadata": {},
   "outputs": [
    {
     "data": {
      "text/plain": [
       "<__main__.Person at 0x1e18db30410>"
      ]
     },
     "execution_count": 23,
     "metadata": {},
     "output_type": "execute_result"
    }
   ],
   "source": [
    "p"
   ]
  },
  {
   "cell_type": "code",
   "execution_count": 24,
   "metadata": {},
   "outputs": [
    {
     "data": {
      "text/plain": [
       "'<__main__.Person object at 0x000001E18DB30410>'"
      ]
     },
     "execution_count": 24,
     "metadata": {},
     "output_type": "execute_result"
    }
   ],
   "source": [
    "repr(p)"
   ]
  },
  {
   "cell_type": "code",
   "execution_count": 25,
   "metadata": {},
   "outputs": [
    {
     "name": "stdout",
     "output_type": "stream",
     "text": [
      "__str__ called\n",
      "Python\n"
     ]
    }
   ],
   "source": [
    "print(p)"
   ]
  },
  {
   "cell_type": "code",
   "execution_count": 26,
   "metadata": {},
   "outputs": [
    {
     "name": "stdout",
     "output_type": "stream",
     "text": [
      "__str__ called\n"
     ]
    },
    {
     "data": {
      "text/plain": [
       "'Python'"
      ]
     },
     "execution_count": 26,
     "metadata": {},
     "output_type": "execute_result"
    }
   ],
   "source": [
    "str(p)"
   ]
  },
  {
   "cell_type": "code",
   "execution_count": 33,
   "metadata": {},
   "outputs": [],
   "source": [
    "class Person:\n",
    "    def __init__(self, name, age):\n",
    "        self.name = name\n",
    "        self.age = age\n",
    "    \n",
    "    def __repr__(self):\n",
    "        print('__repr__ called')\n",
    "        return f\"Peson(name='{self.name}', age={self.age})\"\n",
    "    \n",
    "    def __str__(self):\n",
    "        print('__str__ called')\n",
    "        return self.name"
   ]
  },
  {
   "cell_type": "code",
   "execution_count": 34,
   "metadata": {},
   "outputs": [],
   "source": [
    "p = Person('python', 30)"
   ]
  },
  {
   "cell_type": "code",
   "execution_count": 35,
   "metadata": {},
   "outputs": [
    {
     "name": "stdout",
     "output_type": "stream",
     "text": [
      "__str__ called\n"
     ]
    },
    {
     "data": {
      "text/plain": [
       "'The person i python'"
      ]
     },
     "execution_count": 35,
     "metadata": {},
     "output_type": "execute_result"
    }
   ],
   "source": [
    "f'The person i {p}'"
   ]
  },
  {
   "cell_type": "code",
   "execution_count": 36,
   "metadata": {},
   "outputs": [
    {
     "name": "stdout",
     "output_type": "stream",
     "text": [
      "__str__ called\n"
     ]
    },
    {
     "data": {
      "text/plain": [
       "'The person is python'"
      ]
     },
     "execution_count": 36,
     "metadata": {},
     "output_type": "execute_result"
    }
   ],
   "source": [
    "'The person is {}'.format(p)"
   ]
  },
  {
   "cell_type": "code",
   "execution_count": 37,
   "metadata": {},
   "outputs": [
    {
     "ename": "TypeError",
     "evalue": "not all arguments converted during string formatting",
     "output_type": "error",
     "traceback": [
      "\u001b[1;31m---------------------------------------------------------------------------\u001b[0m",
      "\u001b[1;31mTypeError\u001b[0m                                 Traceback (most recent call last)",
      "Cell \u001b[1;32mIn[37], line 1\u001b[0m\n\u001b[1;32m----> 1\u001b[0m \u001b[38;5;124;43m'\u001b[39;49m\u001b[38;5;124;43mThe person is $s\u001b[39;49m\u001b[38;5;124;43m'\u001b[39;49m\u001b[43m \u001b[49m\u001b[38;5;241;43m%\u001b[39;49m\u001b[43m \u001b[49m\u001b[43mp\u001b[49m\n",
      "\u001b[1;31mTypeError\u001b[0m: not all arguments converted during string formatting"
     ]
    }
   ],
   "source": [
    "'The person is $s' % p"
   ]
  },
  {
   "cell_type": "code",
   "execution_count": 38,
   "metadata": {},
   "outputs": [
    {
     "name": "stdout",
     "output_type": "stream",
     "text": [
      "__str__ called\n"
     ]
    },
    {
     "data": {
      "text/plain": [
       "'The person is python'"
      ]
     },
     "execution_count": 38,
     "metadata": {},
     "output_type": "execute_result"
    }
   ],
   "source": [
    "'The person is %s' % p"
   ]
  },
  {
   "cell_type": "code",
   "execution_count": 39,
   "metadata": {},
   "outputs": [],
   "source": [
    "from numbers import Real"
   ]
  },
  {
   "cell_type": "code",
   "execution_count": 46,
   "metadata": {},
   "outputs": [],
   "source": [
    "class Vector:\n",
    "    def __init__(self, *components):\n",
    "        if len(components) < 1:\n",
    "            raise ValueError('Cannot create an empty Vector.')\n",
    "        for component in components:\n",
    "            if not isinstance(component, Real):\n",
    "                raise ValueError(f'Vertor component must all be real number. {component} is invalid.')\n",
    "\n",
    "            self._components = tuple(components)\n",
    "    \n",
    "    def __len__(self):\n",
    "        return len(self._components)\n",
    "\n",
    "    @property\n",
    "    def components(self):\n",
    "        return self._components\n",
    "    \n",
    "    def __repr__(self):\n",
    "        return f'Vector{self.components}'\n",
    "    \n",
    "    "
   ]
  },
  {
   "cell_type": "code",
   "execution_count": 47,
   "metadata": {},
   "outputs": [],
   "source": [
    "v1 = Vector(1,2)\n",
    "v2 = Vector(10, 20, 30, 40)"
   ]
  },
  {
   "cell_type": "code",
   "execution_count": 48,
   "metadata": {},
   "outputs": [
    {
     "data": {
      "text/plain": [
       "(2, 4)"
      ]
     },
     "execution_count": 48,
     "metadata": {},
     "output_type": "execute_result"
    }
   ],
   "source": [
    "len(v1), len(v2)"
   ]
  },
  {
   "cell_type": "code",
   "execution_count": 49,
   "metadata": {},
   "outputs": [
    {
     "data": {
      "text/plain": [
       "Vector(1, 2)"
      ]
     },
     "execution_count": 49,
     "metadata": {},
     "output_type": "execute_result"
    }
   ],
   "source": [
    "v1"
   ]
  },
  {
   "cell_type": "code",
   "execution_count": 50,
   "metadata": {},
   "outputs": [
    {
     "data": {
      "text/plain": [
       "Vector(10, 20, 30, 40)"
      ]
     },
     "execution_count": 50,
     "metadata": {},
     "output_type": "execute_result"
    }
   ],
   "source": [
    "v2"
   ]
  },
  {
   "cell_type": "code",
   "execution_count": 51,
   "metadata": {},
   "outputs": [
    {
     "data": {
      "text/plain": [
       "'Vector(1, 2)'"
      ]
     },
     "execution_count": 51,
     "metadata": {},
     "output_type": "execute_result"
    }
   ],
   "source": [
    "str(v1)"
   ]
  },
  {
   "cell_type": "code",
   "execution_count": 77,
   "metadata": {},
   "outputs": [],
   "source": [
    "class VectorDimensionMismatch(TypeError):\n",
    "    pass\n",
    "\n",
    "\n",
    "class Vector:\n",
    "    def __init__(self, *components):\n",
    "        if len(components) < 1:\n",
    "            raise ValueError('Cannot create an empty Vector.')\n",
    "        for component in components:\n",
    "            if not isinstance(component, Real):\n",
    "                raise ValueError(f'Vertor component must all be real number. {component} is invalid.')\n",
    "\n",
    "            self._components = tuple(components)\n",
    "    \n",
    "    def __len__(self):\n",
    "        return len(self._components)\n",
    "\n",
    "    @property\n",
    "    def components(self):\n",
    "        return self._components\n",
    "    \n",
    "    def __repr__(self):\n",
    "        return f'Vector{self.components}'\n",
    "    \n",
    "    def validate_type_and_dimension(self, v):\n",
    "        return isinstance(v, Vector) and len(v) == len(self)\n",
    "     \n",
    "    def __add__(self, other):\n",
    "        if not self.validate_type_and_dimension(other):\n",
    "            raise NotImplemented\n",
    "        components = (x + y for x,y in zip(self.components, other.components))\n",
    "        return Vector(*components)\n",
    "    \n",
    "    def __sub__(self, other):\n",
    "        if not self.validate_type_and_dimension(other):\n",
    "            raise NotImplemented\n",
    "        components = (x - y for x,y in zip(self.components, other.components))\n",
    "        return Vector(*components)\n",
    "        "
   ]
  },
  {
   "cell_type": "code",
   "execution_count": 78,
   "metadata": {},
   "outputs": [],
   "source": [
    "v1 = Vector(1,2)\n",
    "v2 = Vector(10, 10)\n",
    "v3 = Vector(1,2,3,4)"
   ]
  },
  {
   "cell_type": "code",
   "execution_count": 79,
   "metadata": {},
   "outputs": [
    {
     "data": {
      "text/plain": [
       "Vector(1, 2)"
      ]
     },
     "execution_count": 79,
     "metadata": {},
     "output_type": "execute_result"
    }
   ],
   "source": [
    "v1"
   ]
  },
  {
   "cell_type": "code",
   "execution_count": 80,
   "metadata": {},
   "outputs": [
    {
     "data": {
      "text/plain": [
       "Vector(11, 12)"
      ]
     },
     "execution_count": 80,
     "metadata": {},
     "output_type": "execute_result"
    }
   ],
   "source": [
    "v1 + v2"
   ]
  },
  {
   "cell_type": "code",
   "execution_count": 81,
   "metadata": {},
   "outputs": [
    {
     "data": {
      "text/plain": [
       "Vector(11, 12)"
      ]
     },
     "execution_count": 81,
     "metadata": {},
     "output_type": "execute_result"
    }
   ],
   "source": [
    "v2 + v1"
   ]
  },
  {
   "cell_type": "code",
   "execution_count": 82,
   "metadata": {},
   "outputs": [
    {
     "name": "stdout",
     "output_type": "stream",
     "text": [
      "exceptions must derive from BaseException\n"
     ]
    }
   ],
   "source": [
    "try:\n",
    "    v1 + v3\n",
    "except TypeError as ex:\n",
    "        print(ex)"
   ]
  },
  {
   "cell_type": "code",
   "execution_count": 83,
   "metadata": {},
   "outputs": [
    {
     "ename": "TypeError",
     "evalue": "exceptions must derive from BaseException",
     "output_type": "error",
     "traceback": [
      "\u001b[1;31m---------------------------------------------------------------------------\u001b[0m",
      "\u001b[1;31mTypeError\u001b[0m                                 Traceback (most recent call last)",
      "Cell \u001b[1;32mIn[83], line 1\u001b[0m\n\u001b[1;32m----> 1\u001b[0m \u001b[43mv1\u001b[49m\u001b[43m \u001b[49m\u001b[38;5;241;43m+\u001b[39;49m\u001b[43m \u001b[49m\u001b[38;5;241;43m100\u001b[39;49m\n",
      "Cell \u001b[1;32mIn[77], line 30\u001b[0m, in \u001b[0;36mVector.__add__\u001b[1;34m(self, other)\u001b[0m\n\u001b[0;32m     28\u001b[0m \u001b[38;5;28;01mdef\u001b[39;00m \u001b[38;5;21m__add__\u001b[39m(\u001b[38;5;28mself\u001b[39m, other):\n\u001b[0;32m     29\u001b[0m     \u001b[38;5;28;01mif\u001b[39;00m \u001b[38;5;129;01mnot\u001b[39;00m \u001b[38;5;28mself\u001b[39m\u001b[38;5;241m.\u001b[39mvalidate_type_and_dimension(other):\n\u001b[1;32m---> 30\u001b[0m         \u001b[38;5;28;01mraise\u001b[39;00m \u001b[38;5;28mNotImplemented\u001b[39m\n\u001b[0;32m     31\u001b[0m     components \u001b[38;5;241m=\u001b[39m (x \u001b[38;5;241m+\u001b[39m y \u001b[38;5;28;01mfor\u001b[39;00m x,y \u001b[38;5;129;01min\u001b[39;00m \u001b[38;5;28mzip\u001b[39m(\u001b[38;5;28mself\u001b[39m\u001b[38;5;241m.\u001b[39mcomponents, other\u001b[38;5;241m.\u001b[39mcomponents))\n\u001b[0;32m     32\u001b[0m     \u001b[38;5;28;01mreturn\u001b[39;00m Vector(\u001b[38;5;241m*\u001b[39mcomponents)\n",
      "\u001b[1;31mTypeError\u001b[0m: exceptions must derive from BaseException"
     ]
    }
   ],
   "source": [
    "v1 + 100"
   ]
  },
  {
   "cell_type": "code",
   "execution_count": 84,
   "metadata": {},
   "outputs": [],
   "source": [
    "class VectorDimensionMismatch(TypeError):\n",
    "    pass\n",
    "\n",
    "\n",
    "class Vector:\n",
    "    def __init__(self, *components):\n",
    "        if len(components) < 1:\n",
    "            raise ValueError('Cannot create an empty Vector.')\n",
    "        for component in components:\n",
    "            if not isinstance(component, Real):\n",
    "                raise ValueError(f'Vertor component must all be real number. {component} is invalid.')\n",
    "\n",
    "            self._components = tuple(components)\n",
    "    \n",
    "    def __len__(self):\n",
    "        return len(self._components)\n",
    "\n",
    "    @property\n",
    "    def components(self):\n",
    "        return self._components\n",
    "    \n",
    "    def __repr__(self):\n",
    "        return f'Vector{self.components}'\n",
    "    \n",
    "    def validate_type_and_dimension(self, v):\n",
    "        return isinstance(v, Vector) and len(v) == len(self)\n",
    "     \n",
    "    def __add__(self, other):\n",
    "        if not self.validate_type_and_dimension(other):\n",
    "            raise NotImplemented\n",
    "        components = (x + y for x,y in zip(self.components, other.components))\n",
    "        return Vector(*components)\n",
    "    \n",
    "    def __sub__(self, other):\n",
    "        if not self.validate_type_and_dimension(other):\n",
    "            raise NotImplemented\n",
    "        components = (x - y for x,y in zip(self.components, other.components))\n",
    "        return Vector(*components)\n",
    "        \n",
    "    def __mul__(self, other):\n",
    "        print('__mul__ called...')\n",
    "        if not isinstance(other, Real):\n",
    "            return NotImplemented\n",
    "        components = (other * x for x in self.components)\n",
    "        return Vector(*components)"
   ]
  },
  {
   "cell_type": "code",
   "execution_count": 85,
   "metadata": {},
   "outputs": [],
   "source": [
    "v1 = Vector(1,2)\n",
    "v2 = Vector(10, 10)\n",
    "v3 = Vector(1,2,3,4)\n"
   ]
  },
  {
   "cell_type": "code",
   "execution_count": 86,
   "metadata": {},
   "outputs": [
    {
     "name": "stdout",
     "output_type": "stream",
     "text": [
      "__mul__ called...\n"
     ]
    },
    {
     "data": {
      "text/plain": [
       "Vector(10, 20)"
      ]
     },
     "execution_count": 86,
     "metadata": {},
     "output_type": "execute_result"
    }
   ],
   "source": [
    "v1 * 10"
   ]
  },
  {
   "cell_type": "code",
   "execution_count": 87,
   "metadata": {},
   "outputs": [
    {
     "name": "stdout",
     "output_type": "stream",
     "text": [
      "__mul__ called...\n"
     ]
    },
    {
     "data": {
      "text/plain": [
       "Vector(10, 20)"
      ]
     },
     "execution_count": 87,
     "metadata": {},
     "output_type": "execute_result"
    }
   ],
   "source": [
    "v1.__mul__(10)"
   ]
  },
  {
   "cell_type": "code",
   "execution_count": 88,
   "metadata": {},
   "outputs": [
    {
     "ename": "TypeError",
     "evalue": "unsupported operand type(s) for *: 'int' and 'Vector'",
     "output_type": "error",
     "traceback": [
      "\u001b[1;31m---------------------------------------------------------------------------\u001b[0m",
      "\u001b[1;31mTypeError\u001b[0m                                 Traceback (most recent call last)",
      "Cell \u001b[1;32mIn[88], line 1\u001b[0m\n\u001b[1;32m----> 1\u001b[0m \u001b[38;5;241;43m10\u001b[39;49m\u001b[43m \u001b[49m\u001b[38;5;241;43m*\u001b[39;49m\u001b[43m \u001b[49m\u001b[43mv1\u001b[49m\n",
      "\u001b[1;31mTypeError\u001b[0m: unsupported operand type(s) for *: 'int' and 'Vector'"
     ]
    }
   ],
   "source": [
    "10 * v1"
   ]
  },
  {
   "cell_type": "code",
   "execution_count": 89,
   "metadata": {},
   "outputs": [
    {
     "ename": "AttributeError",
     "evalue": "'Vector' object has no attribute '__rmul__'",
     "output_type": "error",
     "traceback": [
      "\u001b[1;31m---------------------------------------------------------------------------\u001b[0m",
      "\u001b[1;31mAttributeError\u001b[0m                            Traceback (most recent call last)",
      "Cell \u001b[1;32mIn[89], line 1\u001b[0m\n\u001b[1;32m----> 1\u001b[0m \u001b[43mv1\u001b[49m\u001b[38;5;241;43m.\u001b[39;49m\u001b[38;5;21;43m__rmul__\u001b[39;49m(\u001b[38;5;241m10\u001b[39m)\n",
      "\u001b[1;31mAttributeError\u001b[0m: 'Vector' object has no attribute '__rmul__'"
     ]
    }
   ],
   "source": [
    "v1.__rmul__(10)"
   ]
  },
  {
   "cell_type": "code",
   "execution_count": 95,
   "metadata": {},
   "outputs": [],
   "source": [
    "class VectorDimensionMismatch(TypeError):\n",
    "    pass\n",
    "\n",
    "\n",
    "class Vector:\n",
    "    def __init__(self, *components):\n",
    "        if len(components) < 1:\n",
    "            raise ValueError('Cannot create an empty Vector.')\n",
    "        for component in components:\n",
    "            if not isinstance(component, Real):\n",
    "                raise ValueError(f'Vertor component must all be real number. {component} is invalid.')\n",
    "\n",
    "            self._components = tuple(components)\n",
    "    \n",
    "    def __len__(self):\n",
    "        return len(self._components)\n",
    "\n",
    "    @property\n",
    "    def components(self):\n",
    "        return self._components\n",
    "    \n",
    "    def __repr__(self):\n",
    "        return f'Vector{self.components}'\n",
    "    \n",
    "    def validate_type_and_dimension(self, v):\n",
    "        return isinstance(v, Vector) and len(v) == len(self)\n",
    "     \n",
    "    def __add__(self, other):\n",
    "        if not self.validate_type_and_dimension(other):\n",
    "            raise NotImplemented\n",
    "        components = (x + y for x,y in zip(self.components, other.components))\n",
    "        return Vector(*components)\n",
    "    \n",
    "    def __sub__(self, other):\n",
    "        if not self.validate_type_and_dimension(other):\n",
    "            raise NotImplemented\n",
    "        components = (x - y for x,y in zip(self.components, other.components))\n",
    "        return Vector(*components)\n",
    "        \n",
    "    def __mul__(self, other):\n",
    "        print('__mul__ called...')\n",
    "        if not isinstance(other, Real):\n",
    "            return NotImplemented\n",
    "        components = (other * x for x in self.components)\n",
    "        return Vector(*components)\n",
    "    \n",
    "    def __rmul__(self, other):\n",
    "        print('__rmul__ called..')\n",
    "        return self * other"
   ]
  },
  {
   "cell_type": "code",
   "execution_count": 96,
   "metadata": {},
   "outputs": [],
   "source": [
    "v1 = Vector(1,2)\n",
    "v2 = Vector(10, 10)\n",
    "v3 = Vector(1,2,3,4)\n"
   ]
  },
  {
   "cell_type": "code",
   "execution_count": 97,
   "metadata": {},
   "outputs": [
    {
     "name": "stdout",
     "output_type": "stream",
     "text": [
      "__mul__ called...\n"
     ]
    },
    {
     "data": {
      "text/plain": [
       "Vector(10, 20)"
      ]
     },
     "execution_count": 97,
     "metadata": {},
     "output_type": "execute_result"
    }
   ],
   "source": [
    "v1 * 10"
   ]
  },
  {
   "cell_type": "code",
   "execution_count": 98,
   "metadata": {},
   "outputs": [
    {
     "data": {
      "text/plain": [
       "100"
      ]
     },
     "execution_count": 98,
     "metadata": {},
     "output_type": "execute_result"
    }
   ],
   "source": [
    "10 * 10"
   ]
  },
  {
   "cell_type": "code",
   "execution_count": 99,
   "metadata": {},
   "outputs": [
    {
     "name": "stdout",
     "output_type": "stream",
     "text": [
      "__rmul__ called..\n",
      "__mul__ called...\n"
     ]
    },
    {
     "data": {
      "text/plain": [
       "Vector(10, 20)"
      ]
     },
     "execution_count": 99,
     "metadata": {},
     "output_type": "execute_result"
    }
   ],
   "source": [
    "10 * v1"
   ]
  },
  {
   "cell_type": "code",
   "execution_count": 103,
   "metadata": {},
   "outputs": [],
   "source": [
    "class VectorDimensionMismatch(TypeError):\n",
    "    pass\n",
    "\n",
    "\n",
    "class Vector:\n",
    "    def __init__(self, *components):\n",
    "        if len(components) < 1:\n",
    "            raise ValueError('Cannot create an empty Vector.')\n",
    "        for component in components:\n",
    "            if not isinstance(component, Real):\n",
    "                raise ValueError(f'Vertor component must all be real number. {component} is invalid.')\n",
    "\n",
    "            self._components = tuple(components)\n",
    "    \n",
    "    def __len__(self):\n",
    "        return len(self._components)\n",
    "\n",
    "    @property\n",
    "    def components(self):\n",
    "        return self._components\n",
    "    \n",
    "    def __repr__(self):\n",
    "        return f'Vector{self.components}'\n",
    "    \n",
    "    def validate_type_and_dimension(self, v):\n",
    "        return isinstance(v, Vector) and len(v) == len(self)\n",
    "     \n",
    "    def __add__(self, other):\n",
    "        if not self.validate_type_and_dimension(other):\n",
    "            raise NotImplemented\n",
    "        components = (x + y for x,y in zip(self.components, other.components))\n",
    "        return Vector(*components)\n",
    "    \n",
    "    def __sub__(self, other):\n",
    "        if not self.validate_type_and_dimension(other):\n",
    "            raise NotImplemented\n",
    "        components = (x - y for x,y in zip(self.components, other.components))\n",
    "        return Vector(*components)\n",
    "        \n",
    "    def __mul__(self, other):\n",
    "        print('__mul__ called...')\n",
    "        if  isinstance(other, Real):\n",
    "            # scalar product\n",
    "            components = (other * x for x in self.components)\n",
    "            return Vector(*components)\n",
    "        if self.validate_type_and_dimension(other):\n",
    "            # dot product\n",
    "            components = (x * y for x, y in zip(self.components, other.components))\n",
    "            return sum(components)\n",
    "        return NotImplemented \n",
    "    def __rmul__(self, other):\n",
    "        print('__rmul__ called..')\n",
    "        return self * other"
   ]
  },
  {
   "cell_type": "code",
   "execution_count": 104,
   "metadata": {},
   "outputs": [],
   "source": [
    "v1 = Vector(1,2)\n",
    "v2 = Vector(3,4)\n"
   ]
  },
  {
   "cell_type": "code",
   "execution_count": 105,
   "metadata": {},
   "outputs": [
    {
     "name": "stdout",
     "output_type": "stream",
     "text": [
      "__mul__ called...\n"
     ]
    },
    {
     "data": {
      "text/plain": [
       "11"
      ]
     },
     "execution_count": 105,
     "metadata": {},
     "output_type": "execute_result"
    }
   ],
   "source": [
    "v1 * v2"
   ]
  },
  {
   "cell_type": "code",
   "execution_count": 106,
   "metadata": {},
   "outputs": [],
   "source": [
    "class VectorDimensionMismatch(TypeError):\n",
    "    pass\n",
    "\n",
    "\n",
    "class Vector:\n",
    "    def __init__(self, *components):\n",
    "        if len(components) < 1:\n",
    "            raise ValueError('Cannot create an empty Vector.')\n",
    "        for component in components:\n",
    "            if not isinstance(component, Real):\n",
    "                raise ValueError(f'Vertor component must all be real number. {component} is invalid.')\n",
    "\n",
    "            self._components = tuple(components)\n",
    "    \n",
    "    def __len__(self):\n",
    "        return len(self._components)\n",
    "\n",
    "    @property\n",
    "    def components(self):\n",
    "        return self._components\n",
    "    \n",
    "    def __repr__(self):\n",
    "        return f'Vector{self.components}'\n",
    "    \n",
    "    def validate_type_and_dimension(self, v):\n",
    "        return isinstance(v, Vector) and len(v) == len(self)\n",
    "     \n",
    "    def __add__(self, other):\n",
    "        if not self.validate_type_and_dimension(other):\n",
    "            raise NotImplemented\n",
    "        components = (x + y for x,y in zip(self.components, other.components))\n",
    "        return Vector(*components)\n",
    "    \n",
    "    def __sub__(self, other):\n",
    "        if not self.validate_type_and_dimension(other):\n",
    "            raise NotImplemented\n",
    "        components = (x - y for x,y in zip(self.components, other.components))\n",
    "        return Vector(*components)\n",
    "        \n",
    "    def __mul__(self, other):\n",
    "        print('__mul__ called...')\n",
    "        if  isinstance(other, Real):\n",
    "            # scalar product\n",
    "            components = (other * x for x in self.components)\n",
    "            return Vector(*components)\n",
    "        if self.validate_type_and_dimension(other):\n",
    "            # dot product\n",
    "            components = (x * y for x, y in zip(self.components, other.components))\n",
    "            return sum(components)\n",
    "        return NotImplemented \n",
    "    def __rmul__(self, other):\n",
    "        print('__rmul__ called..')\n",
    "        return self * other\n",
    "    \n",
    "    def __matmul__(self, other):\n",
    "        print('__matmul__ called...')\n",
    "        \n",
    "        "
   ]
  },
  {
   "cell_type": "code",
   "execution_count": 107,
   "metadata": {},
   "outputs": [],
   "source": [
    "v1 = Vector(1,2)\n",
    "v2 = Vector(3, 4)"
   ]
  },
  {
   "cell_type": "code",
   "execution_count": 108,
   "metadata": {},
   "outputs": [
    {
     "name": "stdout",
     "output_type": "stream",
     "text": [
      "__matmul__ called...\n"
     ]
    }
   ],
   "source": [
    "v1 @ v2"
   ]
  },
  {
   "cell_type": "code",
   "execution_count": 109,
   "metadata": {},
   "outputs": [],
   "source": [
    "### In-Place Operators"
   ]
  },
  {
   "cell_type": "code",
   "execution_count": 110,
   "metadata": {},
   "outputs": [],
   "source": [
    "l = [1,2]\n"
   ]
  },
  {
   "cell_type": "code",
   "execution_count": 111,
   "metadata": {},
   "outputs": [
    {
     "data": {
      "text/plain": [
       "2068269491968"
      ]
     },
     "execution_count": 111,
     "metadata": {},
     "output_type": "execute_result"
    }
   ],
   "source": [
    "id(l)"
   ]
  },
  {
   "cell_type": "code",
   "execution_count": 112,
   "metadata": {},
   "outputs": [],
   "source": [
    "l += [3,4]"
   ]
  },
  {
   "cell_type": "code",
   "execution_count": 113,
   "metadata": {},
   "outputs": [
    {
     "data": {
      "text/plain": [
       "2068269491968"
      ]
     },
     "execution_count": 113,
     "metadata": {},
     "output_type": "execute_result"
    }
   ],
   "source": [
    "id(l)"
   ]
  },
  {
   "cell_type": "code",
   "execution_count": 114,
   "metadata": {},
   "outputs": [
    {
     "name": "stdout",
     "output_type": "stream",
     "text": [
      "2068272426048\n",
      "2068269491968\n"
     ]
    }
   ],
   "source": [
    "l = [1,2]\n",
    "print(id(l))\n",
    "l = l + [2,3]\n",
    "print(id(l))"
   ]
  },
  {
   "cell_type": "code",
   "execution_count": 116,
   "metadata": {},
   "outputs": [
    {
     "name": "stdout",
     "output_type": "stream",
     "text": [
      "2068272408384\n",
      "2068271566496 (1, 2, 3, 4)\n"
     ]
    }
   ],
   "source": [
    "t = (1, 2)\n",
    "print(id(t))\n",
    "t += (3,4)\n",
    "print(id(t), t)"
   ]
  },
  {
   "cell_type": "code",
   "execution_count": 117,
   "metadata": {},
   "outputs": [],
   "source": [
    "class VectorDimensionMismatch(TypeError):\n",
    "    pass\n",
    "\n",
    "\n",
    "class Vector:\n",
    "    def __init__(self, *components):\n",
    "        if len(components) < 1:\n",
    "            raise ValueError('Cannot create an empty Vector.')\n",
    "        for component in components:\n",
    "            if not isinstance(component, Real):\n",
    "                raise ValueError(f'Vertor component must all be real number. {component} is invalid.')\n",
    "\n",
    "            self._components = tuple(components)\n",
    "    \n",
    "    def __len__(self):\n",
    "        return len(self._components)\n",
    "\n",
    "    @property\n",
    "    def components(self):\n",
    "        return self._components\n",
    "    \n",
    "    def __repr__(self):\n",
    "        return f'Vector{self.components}'\n",
    "    \n",
    "    def validate_type_and_dimension(self, v):\n",
    "        return isinstance(v, Vector) and len(v) == len(self)\n",
    "     \n",
    "    def __add__(self, other):\n",
    "        if not self.validate_type_and_dimension(other):\n",
    "            raise NotImplemented\n",
    "        components = (x + y for x,y in zip(self.components, other.components))\n",
    "        return Vector(*components)\n",
    "    \n",
    "    def __sub__(self, other):\n",
    "        if not self.validate_type_and_dimension(other):\n",
    "            raise NotImplemented\n",
    "        components = (x - y for x,y in zip(self.components, other.components))\n",
    "        return Vector(*components)\n",
    "        \n",
    "    def __mul__(self, other):\n",
    "        print('__mul__ called...')\n",
    "        if  isinstance(other, Real):\n",
    "            # scalar product\n",
    "            components = (other * x for x in self.components)\n",
    "            return Vector(*components)\n",
    "        if self.validate_type_and_dimension(other):\n",
    "            # dot product\n",
    "            components = (x * y for x, y in zip(self.components, other.components))\n",
    "            return sum(components)\n",
    "        return NotImplemented \n",
    "    def __rmul__(self, other):\n",
    "        print('__rmul__ called..')\n",
    "        return self * other\n",
    "    \n",
    "    def __matmul__(self, other):\n",
    "        print('__matmul__ called...')\n",
    "        \n",
    "    \n",
    "    def __iadd__(self, other):\n",
    "        print('__iadd__ called...' )\n",
    "        return self + other"
   ]
  },
  {
   "cell_type": "code",
   "execution_count": 118,
   "metadata": {},
   "outputs": [
    {
     "name": "stdout",
     "output_type": "stream",
     "text": [
      "2068254891696 Vector(1, 2)\n",
      "__iadd__ called...\n",
      "2068257048480 Vector(11, 12)\n"
     ]
    }
   ],
   "source": [
    "v1 = Vector(1,2)\n",
    "v2 = Vector(10, 10)\n",
    "print(id(v1), v1)\n",
    "v1 += v2\n",
    "print(id(v1), v1)\n",
    "\n",
    "\n"
   ]
  },
  {
   "cell_type": "code",
   "execution_count": 119,
   "metadata": {},
   "outputs": [],
   "source": [
    "class VectorDimensionMismatch(TypeError):\n",
    "    pass\n",
    "\n",
    "\n",
    "class Vector:\n",
    "    def __init__(self, *components):\n",
    "        if len(components) < 1:\n",
    "            raise ValueError('Cannot create an empty Vector.')\n",
    "        for component in components:\n",
    "            if not isinstance(component, Real):\n",
    "                raise ValueError(f'Vertor component must all be real number. {component} is invalid.')\n",
    "\n",
    "            self._components = tuple(components)\n",
    "    \n",
    "    def __len__(self):\n",
    "        return len(self._components)\n",
    "\n",
    "    @property\n",
    "    def components(self):\n",
    "        return self._components\n",
    "    \n",
    "    def __repr__(self):\n",
    "        return f'Vector{self.components}'\n",
    "    \n",
    "    def validate_type_and_dimension(self, v):\n",
    "        return isinstance(v, Vector) and len(v) == len(self)\n",
    "     \n",
    "    def __add__(self, other):\n",
    "        if not self.validate_type_and_dimension(other):\n",
    "            raise NotImplemented\n",
    "        components = (x + y for x,y in zip(self.components, other.components))\n",
    "        return Vector(*components)\n",
    "    \n",
    "    def __sub__(self, other):\n",
    "        if not self.validate_type_and_dimension(other):\n",
    "            raise NotImplemented\n",
    "        components = (x - y for x,y in zip(self.components, other.components))\n",
    "        return Vector(*components)\n",
    "        \n",
    "    def __mul__(self, other):\n",
    "        print('__mul__ called...')\n",
    "        if  isinstance(other, Real):\n",
    "            # scalar product\n",
    "            components = (other * x for x in self.components)\n",
    "            return Vector(*components)\n",
    "        if self.validate_type_and_dimension(other):\n",
    "            # dot product\n",
    "            components = (x * y for x, y in zip(self.components, other.components))\n",
    "            return sum(components)\n",
    "        return NotImplemented \n",
    "    def __rmul__(self, other):\n",
    "        print('__rmul__ called..')\n",
    "        return self * other\n",
    "    \n",
    "    def __matmul__(self, other):\n",
    "        print('__matmul__ called...')\n",
    "        \n",
    "    \n",
    "    def __iadd__(self, other):\n",
    "        print('__iadd__ called...' )\n",
    "        if  self.validate_type_and_dimension(other):\n",
    "            components = (x + y for x,y in zip(self.components, other.components))\n",
    "            self._components = tuple(components)\n",
    "            return self\n",
    "        return NotImplemented"
   ]
  },
  {
   "cell_type": "code",
   "execution_count": 120,
   "metadata": {},
   "outputs": [
    {
     "name": "stdout",
     "output_type": "stream",
     "text": [
      "2068256601296 Vector(1, 2)\n",
      "__iadd__ called...\n",
      "2068256601296 Vector(11, 12)\n"
     ]
    }
   ],
   "source": [
    "v1 = Vector(1,2)\n",
    "v2 = Vector(10, 10)\n",
    "print(id(v1), v1)\n",
    "v1 += v2\n",
    "print(id(v1), v1)\n",
    "\n",
    "\n"
   ]
  },
  {
   "cell_type": "code",
   "execution_count": 3,
   "metadata": {},
   "outputs": [],
   "source": [
    "from numbers import Real\n",
    "class VectorDimensionMismatch(TypeError):\n",
    "    pass\n",
    "\n",
    "\n",
    "class Vector:\n",
    "    def __init__(self, *components):\n",
    "        if len(components) < 1:\n",
    "            raise ValueError('Cannot create an empty Vector.')\n",
    "        for component in components:\n",
    "            if not isinstance(component, Real):\n",
    "                raise ValueError(f'Vertor component must all be real number. {component} is invalid.')\n",
    "\n",
    "            self._components = tuple(components)\n",
    "    \n",
    "    def __len__(self):\n",
    "        return len(self._components)\n",
    "\n",
    "    @property\n",
    "    def components(self):\n",
    "        return self._components\n",
    "    \n",
    "    def __repr__(self):\n",
    "        return f'Vector{self.components}'\n",
    "    \n",
    "    def validate_type_and_dimension(self, v):\n",
    "        return isinstance(v, Vector) and len(v) == len(self)\n",
    "     \n",
    "    def __add__(self, other):\n",
    "        if not self.validate_type_and_dimension(other):\n",
    "            raise NotImplemented\n",
    "        components = (x + y for x,y in zip(self.components, other.components))\n",
    "        return Vector(*components)\n",
    "    \n",
    "    def __sub__(self, other):\n",
    "        if not self.validate_type_and_dimension(other):\n",
    "            raise NotImplemented\n",
    "        components = (x - y for x,y in zip(self.components, other.components))\n",
    "        return Vector(*components)\n",
    "        \n",
    "    def __mul__(self, other):\n",
    "        print('__mul__ called...')\n",
    "        if  isinstance(other, Real):\n",
    "            # scalar product\n",
    "            components = (other * x for x in self.components)\n",
    "            return Vector(*components)\n",
    "        if self.validate_type_and_dimension(other):\n",
    "            # dot product\n",
    "            components = (x * y for x, y in zip(self.components, other.components))\n",
    "            return sum(components)\n",
    "        return NotImplemented \n",
    "    def __rmul__(self, other):\n",
    "        print('__rmul__ called..')\n",
    "        return self * other\n",
    "    \n",
    "    def __matmul__(self, other):\n",
    "        print('__matmul__ called...')\n",
    "        \n",
    "    \n",
    "    def __iadd__(self, other):\n",
    "        print('__iadd__ called...' )\n",
    "        if  self.validate_type_and_dimension(other):\n",
    "            components = (x + y for x,y in zip(self.components, other.components))\n",
    "            self._components = tuple(components)\n",
    "            return self\n",
    "        return NotImplemented\n",
    "    \n",
    "    def __neg__(self):\n",
    "        print('__neg__ celled')\n",
    "        components = (-x for x in self.components)\n",
    "        return Vector(*components)\n",
    "    "
   ]
  },
  {
   "cell_type": "code",
   "execution_count": 4,
   "metadata": {},
   "outputs": [],
   "source": [
    "v1 = Vector(1,2)\n"
   ]
  },
  {
   "cell_type": "code",
   "execution_count": 5,
   "metadata": {},
   "outputs": [
    {
     "name": "stdout",
     "output_type": "stream",
     "text": [
      "__neg__ celled\n"
     ]
    },
    {
     "data": {
      "text/plain": [
       "2307295015136"
      ]
     },
     "execution_count": 5,
     "metadata": {},
     "output_type": "execute_result"
    }
   ],
   "source": [
    "id(v1)\n",
    "v2 = -v1\n",
    "id(v2)"
   ]
  },
  {
   "cell_type": "code",
   "execution_count": 6,
   "metadata": {},
   "outputs": [
    {
     "data": {
      "text/plain": [
       "2307297418016"
      ]
     },
     "execution_count": 6,
     "metadata": {},
     "output_type": "execute_result"
    }
   ],
   "source": [
    "id(v1)"
   ]
  },
  {
   "cell_type": "code",
   "execution_count": 7,
   "metadata": {},
   "outputs": [
    {
     "ename": "TypeError",
     "evalue": "bad operand type for abs(): 'Vector'",
     "output_type": "error",
     "traceback": [
      "\u001b[1;31m---------------------------------------------------------------------------\u001b[0m",
      "\u001b[1;31mTypeError\u001b[0m                                 Traceback (most recent call last)",
      "Cell \u001b[1;32mIn[7], line 1\u001b[0m\n\u001b[1;32m----> 1\u001b[0m \u001b[38;5;28;43mabs\u001b[39;49m\u001b[43m(\u001b[49m\u001b[43mv1\u001b[49m\u001b[43m)\u001b[49m\n",
      "\u001b[1;31mTypeError\u001b[0m: bad operand type for abs(): 'Vector'"
     ]
    }
   ],
   "source": [
    "abs(v1)"
   ]
  },
  {
   "cell_type": "code",
   "execution_count": 8,
   "metadata": {},
   "outputs": [],
   "source": [
    "from numbers import Real\n",
    "from math import sqrt\n",
    "\n",
    "class VectorDimensionMismatch(TypeError):\n",
    "    pass\n",
    "\n",
    "\n",
    "class Vector:\n",
    "    def __init__(self, *components):\n",
    "        if len(components) < 1:\n",
    "            raise ValueError('Cannot create an empty Vector.')\n",
    "        for component in components:\n",
    "            if not isinstance(component, Real):\n",
    "                raise ValueError(f'Vertor component must all be real number. {component} is invalid.')\n",
    "\n",
    "            self._components = tuple(components)\n",
    "    \n",
    "    def __len__(self):\n",
    "        return len(self._components)\n",
    "\n",
    "    @property\n",
    "    def components(self):\n",
    "        return self._components\n",
    "    \n",
    "    def __repr__(self):\n",
    "        return f'Vector{self.components}'\n",
    "    \n",
    "    def validate_type_and_dimension(self, v):\n",
    "        return isinstance(v, Vector) and len(v) == len(self)\n",
    "     \n",
    "    def __add__(self, other):\n",
    "        if not self.validate_type_and_dimension(other):\n",
    "            raise NotImplemented\n",
    "        components = (x + y for x,y in zip(self.components, other.components))\n",
    "        return Vector(*components)\n",
    "    \n",
    "    def __sub__(self, other):\n",
    "        if not self.validate_type_and_dimension(other):\n",
    "            raise NotImplemented\n",
    "        components = (x - y for x,y in zip(self.components, other.components))\n",
    "        return Vector(*components)\n",
    "        \n",
    "    def __mul__(self, other):\n",
    "        print('__mul__ called...')\n",
    "        if  isinstance(other, Real):\n",
    "            # scalar product\n",
    "            components = (other * x for x in self.components)\n",
    "            return Vector(*components)\n",
    "        if self.validate_type_and_dimension(other):\n",
    "            # dot product\n",
    "            components = (x * y for x, y in zip(self.components, other.components))\n",
    "            return sum(components)\n",
    "        return NotImplemented \n",
    "    def __rmul__(self, other):\n",
    "        print('__rmul__ called..')\n",
    "        return self * other\n",
    "    \n",
    "    def __matmul__(self, other):\n",
    "        print('__matmul__ called...')\n",
    "        \n",
    "    \n",
    "    def __iadd__(self, other):\n",
    "        print('__iadd__ called...' )\n",
    "        if  self.validate_type_and_dimension(other):\n",
    "            components = (x + y for x,y in zip(self.components, other.components))\n",
    "            self._components = tuple(components)\n",
    "            return self\n",
    "        return NotImplemented\n",
    "    \n",
    "    def __neg__(self):\n",
    "        print('__neg__ celled')\n",
    "        components = (-x for x in self.components)\n",
    "        return Vector(*components)\n",
    "    \n",
    "    def __abs__(self):\n",
    "        print('__abs__ called...')\n",
    "        return sqrt(sum(x ** 2 for x in self.components))\n",
    "    "
   ]
  },
  {
   "cell_type": "code",
   "execution_count": 9,
   "metadata": {},
   "outputs": [],
   "source": [
    "v1 = Vector(1,1)"
   ]
  },
  {
   "cell_type": "code",
   "execution_count": 10,
   "metadata": {},
   "outputs": [
    {
     "name": "stdout",
     "output_type": "stream",
     "text": [
      "__abs__ called...\n"
     ]
    },
    {
     "data": {
      "text/plain": [
       "1.4142135623730951"
      ]
     },
     "execution_count": 10,
     "metadata": {},
     "output_type": "execute_result"
    }
   ],
   "source": [
    "abs(v1)"
   ]
  },
  {
   "cell_type": "code",
   "execution_count": 11,
   "metadata": {},
   "outputs": [
    {
     "data": {
      "text/plain": [
       "['s', 's', 's']"
      ]
     },
     "execution_count": 11,
     "metadata": {},
     "output_type": "execute_result"
    }
   ],
   "source": [
    "['s'] * 3"
   ]
  },
  {
   "cell_type": "code",
   "execution_count": 12,
   "metadata": {},
   "outputs": [],
   "source": [
    "class Person:\n",
    "    def __init__(self, name):\n",
    "        self.name = name\n",
    "    \n",
    "    def __repr__(self):\n",
    "        return f\"Person('{self.name}')\""
   ]
  },
  {
   "cell_type": "code",
   "execution_count": 13,
   "metadata": {},
   "outputs": [],
   "source": [
    "p1 = Person('shsh')"
   ]
  },
  {
   "cell_type": "code",
   "execution_count": 14,
   "metadata": {},
   "outputs": [
    {
     "data": {
      "text/plain": [
       "Person('shsh')"
      ]
     },
     "execution_count": 14,
     "metadata": {},
     "output_type": "execute_result"
    }
   ],
   "source": [
    "p1"
   ]
  },
  {
   "cell_type": "code",
   "execution_count": 15,
   "metadata": {},
   "outputs": [],
   "source": [
    "class Family:\n",
    "    def __init__(self, mother, father):\n",
    "        self.mother = mother\n",
    "        self.father = father\n",
    "        self.children = []\n",
    "    \n",
    "    def __iadd__(self, other):\n",
    "        self.children.append(other)\n",
    "        return self"
   ]
  },
  {
   "cell_type": "code",
   "execution_count": 16,
   "metadata": {},
   "outputs": [],
   "source": [
    "f = Family(Person('Mary'), Person('John'))"
   ]
  },
  {
   "cell_type": "code",
   "execution_count": 17,
   "metadata": {},
   "outputs": [
    {
     "data": {
      "text/plain": [
       "<__main__.Family at 0x21935c16210>"
      ]
     },
     "execution_count": 17,
     "metadata": {},
     "output_type": "execute_result"
    }
   ],
   "source": [
    "f"
   ]
  },
  {
   "cell_type": "code",
   "execution_count": 18,
   "metadata": {},
   "outputs": [
    {
     "data": {
      "text/plain": [
       "(Person('Mary'), Person('John'), [])"
      ]
     },
     "execution_count": 18,
     "metadata": {},
     "output_type": "execute_result"
    }
   ],
   "source": [
    "f.mother, f.father, f.children"
   ]
  },
  {
   "cell_type": "code",
   "execution_count": 19,
   "metadata": {},
   "outputs": [],
   "source": [
    "f += Person('Shha')"
   ]
  },
  {
   "cell_type": "code",
   "execution_count": 20,
   "metadata": {},
   "outputs": [
    {
     "data": {
      "text/plain": [
       "[Person('Shha')]"
      ]
     },
     "execution_count": 20,
     "metadata": {},
     "output_type": "execute_result"
    }
   ],
   "source": [
    "f.children"
   ]
  },
  {
   "cell_type": "code",
   "execution_count": 21,
   "metadata": {},
   "outputs": [],
   "source": [
    "f += Person('miche')"
   ]
  },
  {
   "cell_type": "code",
   "execution_count": 23,
   "metadata": {},
   "outputs": [
    {
     "data": {
      "text/plain": [
       "[Person('Shha'), Person('miche')]"
      ]
     },
     "execution_count": 23,
     "metadata": {},
     "output_type": "execute_result"
    },
    {
     "ename": "",
     "evalue": "",
     "output_type": "error",
     "traceback": [
      "\u001b[1;31mThe Kernel crashed while executing code in the current cell or a previous cell. \n",
      "\u001b[1;31mPlease review the code in the cell(s) to identify a possible cause of the failure. \n",
      "\u001b[1;31mClick <a href='https://aka.ms/vscodeJupyterKernelCrash'>here</a> for more info. \n",
      "\u001b[1;31mView Jupyter <a href='command:jupyter.viewOutput'>log</a> for further details."
     ]
    }
   ],
   "source": [
    "f.children"
   ]
  },
  {
   "cell_type": "code",
   "execution_count": 2,
   "metadata": {},
   "outputs": [],
   "source": [
    "# Rich Comparisons"
   ]
  },
  {
   "cell_type": "code",
   "execution_count": 3,
   "metadata": {},
   "outputs": [],
   "source": [
    "class Vector:\n",
    "    def __init__(self, x, y):\n",
    "        self.x = x\n",
    "        self.y = y\n",
    "    \n",
    "    def __repr__(self):\n",
    "        return f'Vector(x={self.x}, y={self.y})'\n",
    "    \n",
    "    "
   ]
  },
  {
   "cell_type": "code",
   "execution_count": 5,
   "metadata": {},
   "outputs": [
    {
     "name": "stdout",
     "output_type": "stream",
     "text": [
      "2261883228752 2261883231440\n"
     ]
    }
   ],
   "source": [
    "v1 = Vector(0, 0)\n",
    "v2 = Vector(0, 0)\n",
    "\n",
    "print(id(v1), id(v2))"
   ]
  },
  {
   "cell_type": "code",
   "execution_count": 6,
   "metadata": {},
   "outputs": [
    {
     "data": {
      "text/plain": [
       "False"
      ]
     },
     "execution_count": 6,
     "metadata": {},
     "output_type": "execute_result"
    }
   ],
   "source": [
    "v1 == v2"
   ]
  },
  {
   "cell_type": "code",
   "execution_count": 7,
   "metadata": {},
   "outputs": [
    {
     "data": {
      "text/plain": [
       "False"
      ]
     },
     "execution_count": 7,
     "metadata": {},
     "output_type": "execute_result"
    }
   ],
   "source": [
    "v1 is v2"
   ]
  },
  {
   "cell_type": "code",
   "execution_count": 10,
   "metadata": {},
   "outputs": [],
   "source": [
    "class Vector:\n",
    "    def __init__(self, x, y):\n",
    "        self.x = x\n",
    "        self.y = y\n",
    "    \n",
    "    def __repr__(self):\n",
    "        return f'Vector(x={self.x}, y={self.y})'\n",
    "    \n",
    "    def __eq__(self, other):\n",
    "        if isinstance(other, Vector):\n",
    "            return self.x == other.x and self.y == other.y \n",
    "        return NotImplemented"
   ]
  },
  {
   "cell_type": "code",
   "execution_count": 11,
   "metadata": {},
   "outputs": [],
   "source": [
    "v1 = Vector(1, 1)\n",
    "v2 = Vector(1, 1)\n",
    "v3 = Vector(10, 10)"
   ]
  },
  {
   "cell_type": "code",
   "execution_count": 12,
   "metadata": {},
   "outputs": [
    {
     "data": {
      "text/plain": [
       "True"
      ]
     },
     "execution_count": 12,
     "metadata": {},
     "output_type": "execute_result"
    }
   ],
   "source": [
    "v1 == v2"
   ]
  },
  {
   "cell_type": "code",
   "execution_count": 13,
   "metadata": {},
   "outputs": [
    {
     "data": {
      "text/plain": [
       "False"
      ]
     },
     "execution_count": 13,
     "metadata": {},
     "output_type": "execute_result"
    }
   ],
   "source": [
    "v1 is v2"
   ]
  },
  {
   "cell_type": "code",
   "execution_count": 14,
   "metadata": {},
   "outputs": [
    {
     "data": {
      "text/plain": [
       "False"
      ]
     },
     "execution_count": 14,
     "metadata": {},
     "output_type": "execute_result"
    }
   ],
   "source": [
    "v1 == v3"
   ]
  },
  {
   "cell_type": "code",
   "execution_count": 15,
   "metadata": {},
   "outputs": [],
   "source": [
    "class Vector:\n",
    "    def __init__(self, x, y):\n",
    "        self.x = x\n",
    "        self.y = y\n",
    "    \n",
    "    def __repr__(self):\n",
    "        return f'Vector(x={self.x}, y={self.y})'\n",
    "    \n",
    "    def __eq__(self, other):\n",
    "        if isinstance(other, tuple):\n",
    "            other = Vector(* other)\n",
    "            \n",
    "        if isinstance(other, Vector):\n",
    "            return self.x == other.x and self.y == other.y \n",
    "        return NotImplemented"
   ]
  },
  {
   "cell_type": "code",
   "execution_count": 16,
   "metadata": {},
   "outputs": [],
   "source": [
    "v1  = Vector(10, 11)\n"
   ]
  },
  {
   "cell_type": "code",
   "execution_count": 17,
   "metadata": {},
   "outputs": [
    {
     "data": {
      "text/plain": [
       "True"
      ]
     },
     "execution_count": 17,
     "metadata": {},
     "output_type": "execute_result"
    }
   ],
   "source": [
    "v1 == (10, 11)"
   ]
  },
  {
   "cell_type": "code",
   "execution_count": 23,
   "metadata": {},
   "outputs": [],
   "source": [
    "from math import sqrt\n",
    "\n",
    "class Vector:\n",
    "    def __init__(self, x, y):\n",
    "        self.x = x\n",
    "        self.y = y\n",
    "    \n",
    "    def __repr__(self):\n",
    "        return f'Vector(x={self.x}, y={self.y})'\n",
    "    \n",
    "    def __eq__(self, other):\n",
    "        if isinstance(other, tuple):\n",
    "            other = Vector(* other)\n",
    "            \n",
    "        if isinstance(other, Vector):\n",
    "            return self.x == other.x and self.y == other.y \n",
    "        return NotImplemented\n",
    "    def __abs__(self):\n",
    "        return  sqrt(self.x ** 2 + self.y **2)\n",
    "    def __lt__(self, other):\n",
    "         if isinstance(other, tuple):\n",
    "            other = Vector(* other)\n",
    "            \n",
    "         if isinstance(other, Vector):\n",
    "                return abs(self) < abs(other)\n",
    "         return NotImplemented"
   ]
  },
  {
   "cell_type": "code",
   "execution_count": 24,
   "metadata": {},
   "outputs": [],
   "source": [
    "v1 = (0, 0)\n",
    "v2 = (1, 1)\n",
    "\n",
    "\n"
   ]
  },
  {
   "cell_type": "code",
   "execution_count": 27,
   "metadata": {},
   "outputs": [
    {
     "data": {
      "text/plain": [
       "True"
      ]
     },
     "execution_count": 27,
     "metadata": {},
     "output_type": "execute_result"
    }
   ],
   "source": [
    "v1 < v2"
   ]
  },
  {
   "cell_type": "code",
   "execution_count": 28,
   "metadata": {},
   "outputs": [
    {
     "data": {
      "text/plain": [
       "False"
      ]
     },
     "execution_count": 28,
     "metadata": {},
     "output_type": "execute_result"
    }
   ],
   "source": [
    "v1 > v2"
   ]
  },
  {
   "cell_type": "code",
   "execution_count": 29,
   "metadata": {},
   "outputs": [
    {
     "data": {
      "text/plain": [
       "True"
      ]
     },
     "execution_count": 29,
     "metadata": {},
     "output_type": "execute_result"
    }
   ],
   "source": [
    "v1 < (1,2)"
   ]
  },
  {
   "cell_type": "code",
   "execution_count": 30,
   "metadata": {},
   "outputs": [
    {
     "data": {
      "text/plain": [
       "True"
      ]
     },
     "execution_count": 30,
     "metadata": {},
     "output_type": "execute_result"
    }
   ],
   "source": [
    "(1,2) > v1"
   ]
  },
  {
   "cell_type": "code",
   "execution_count": 31,
   "metadata": {},
   "outputs": [],
   "source": [
    "from math import sqrt\n",
    "\n",
    "class Vector:\n",
    "    def __init__(self, x, y):\n",
    "        self.x = x\n",
    "        self.y = y\n",
    "    \n",
    "    def __repr__(self):\n",
    "        return f'Vector(x={self.x}, y={self.y})'\n",
    "    \n",
    "    def __eq__(self, other):\n",
    "        if isinstance(other, tuple):\n",
    "            other = Vector(* other)\n",
    "            \n",
    "        if isinstance(other, Vector):\n",
    "            return self.x == other.x and self.y == other.y \n",
    "        return NotImplemented\n",
    "    def __abs__(self):\n",
    "        return  sqrt(self.x ** 2 + self.y **2)\n",
    "    def __lt__(self, other):\n",
    "         if isinstance(other, tuple):\n",
    "            other = Vector(* other)\n",
    "            \n",
    "         if isinstance(other, Vector):\n",
    "                return abs(self) < abs(other)\n",
    "         return NotImplemented\n",
    "     \n",
    "    def __le__(self, other):\n",
    "         return self == other or self < other\n",
    "         "
   ]
  },
  {
   "cell_type": "code",
   "execution_count": 32,
   "metadata": {},
   "outputs": [],
   "source": [
    "v1 = Vector(0, 0)\n",
    "v2 = Vector(0, 0)\n",
    "v3 = Vector(1, 1)\n"
   ]
  },
  {
   "cell_type": "code",
   "execution_count": 33,
   "metadata": {},
   "outputs": [
    {
     "data": {
      "text/plain": [
       "True"
      ]
     },
     "execution_count": 33,
     "metadata": {},
     "output_type": "execute_result"
    }
   ],
   "source": [
    "v1 <= v2"
   ]
  },
  {
   "cell_type": "code",
   "execution_count": 35,
   "metadata": {},
   "outputs": [
    {
     "data": {
      "text/plain": [
       "False"
      ]
     },
     "execution_count": 35,
     "metadata": {},
     "output_type": "execute_result"
    }
   ],
   "source": [
    "not(v1 == v2)"
   ]
  },
  {
   "cell_type": "code",
   "execution_count": 36,
   "metadata": {},
   "outputs": [
    {
     "data": {
      "text/plain": [
       "True"
      ]
     },
     "execution_count": 36,
     "metadata": {},
     "output_type": "execute_result"
    }
   ],
   "source": [
    "v1 == v2"
   ]
  },
  {
   "cell_type": "code",
   "execution_count": 37,
   "metadata": {},
   "outputs": [],
   "source": [
    "from functools import total_ordering"
   ]
  },
  {
   "cell_type": "code",
   "execution_count": 38,
   "metadata": {},
   "outputs": [],
   "source": [
    "@total_ordering\n",
    "class Number:\n",
    "    def __init__(self, x):\n",
    "        self.x = x\n",
    "    \n",
    "    def __eq__(self, other):\n",
    "        print('__eq__ called...')\n",
    "        if isinstance(other, Number):\n",
    "            return self.x == other.x\n",
    "        return NotImplemented\n",
    "    \n",
    "    def __lt__(self, other):\n",
    "        print('__lt__ called...')\n",
    "        if isinstance(other, Number):\n",
    "            return self.x < other.x\n",
    "        return NotImplemented"
   ]
  },
  {
   "cell_type": "code",
   "execution_count": 39,
   "metadata": {},
   "outputs": [],
   "source": [
    "a = Number(1)\n",
    "b = Number(2)\n",
    "c = Number(1)\n"
   ]
  },
  {
   "cell_type": "code",
   "execution_count": 40,
   "metadata": {},
   "outputs": [
    {
     "name": "stdout",
     "output_type": "stream",
     "text": [
      "__eq__ called...\n"
     ]
    },
    {
     "data": {
      "text/plain": [
       "False"
      ]
     },
     "execution_count": 40,
     "metadata": {},
     "output_type": "execute_result"
    }
   ],
   "source": [
    "a == b"
   ]
  },
  {
   "cell_type": "code",
   "execution_count": 41,
   "metadata": {},
   "outputs": [
    {
     "name": "stdout",
     "output_type": "stream",
     "text": [
      "__eq__ called...\n"
     ]
    },
    {
     "data": {
      "text/plain": [
       "True"
      ]
     },
     "execution_count": 41,
     "metadata": {},
     "output_type": "execute_result"
    }
   ],
   "source": [
    "a == c"
   ]
  },
  {
   "cell_type": "code",
   "execution_count": 42,
   "metadata": {},
   "outputs": [
    {
     "name": "stdout",
     "output_type": "stream",
     "text": [
      "__lt__ called...\n"
     ]
    },
    {
     "data": {
      "text/plain": [
       "True"
      ]
     },
     "execution_count": 42,
     "metadata": {},
     "output_type": "execute_result"
    }
   ],
   "source": [
    "a < b"
   ]
  },
  {
   "cell_type": "code",
   "execution_count": 43,
   "metadata": {},
   "outputs": [
    {
     "name": "stdout",
     "output_type": "stream",
     "text": [
      "__lt__ called...\n"
     ]
    },
    {
     "data": {
      "text/plain": [
       "False"
      ]
     },
     "execution_count": 43,
     "metadata": {},
     "output_type": "execute_result"
    }
   ],
   "source": [
    "a > b"
   ]
  },
  {
   "cell_type": "code",
   "execution_count": 44,
   "metadata": {},
   "outputs": [
    {
     "name": "stdout",
     "output_type": "stream",
     "text": [
      "__lt__ called...\n"
     ]
    },
    {
     "data": {
      "text/plain": [
       "True"
      ]
     },
     "execution_count": 44,
     "metadata": {},
     "output_type": "execute_result"
    }
   ],
   "source": [
    "a <= b"
   ]
  },
  {
   "cell_type": "code",
   "execution_count": 45,
   "metadata": {},
   "outputs": [
    {
     "name": "stdout",
     "output_type": "stream",
     "text": [
      "__lt__ called...\n",
      "__eq__ called...\n"
     ]
    },
    {
     "data": {
      "text/plain": [
       "True"
      ]
     },
     "execution_count": 45,
     "metadata": {},
     "output_type": "execute_result"
    }
   ],
   "source": [
    "a <= c"
   ]
  },
  {
   "cell_type": "code",
   "execution_count": 46,
   "metadata": {},
   "outputs": [
    {
     "name": "stdout",
     "output_type": "stream",
     "text": [
      "__eq__ called...\n"
     ]
    },
    {
     "data": {
      "text/plain": [
       "True"
      ]
     },
     "execution_count": 46,
     "metadata": {},
     "output_type": "execute_result"
    }
   ],
   "source": [
    "a != b"
   ]
  },
  {
   "cell_type": "code",
   "execution_count": 47,
   "metadata": {},
   "outputs": [],
   "source": [
    "# Hashing and Equality"
   ]
  },
  {
   "cell_type": "code",
   "execution_count": 48,
   "metadata": {},
   "outputs": [
    {
     "data": {
      "text/plain": [
       "['__class__',\n",
       " '__delattr__',\n",
       " '__dir__',\n",
       " '__doc__',\n",
       " '__eq__',\n",
       " '__format__',\n",
       " '__ge__',\n",
       " '__getattribute__',\n",
       " '__getstate__',\n",
       " '__gt__',\n",
       " '__hash__',\n",
       " '__init__',\n",
       " '__init_subclass__',\n",
       " '__le__',\n",
       " '__lt__',\n",
       " '__ne__',\n",
       " '__new__',\n",
       " '__reduce__',\n",
       " '__reduce_ex__',\n",
       " '__repr__',\n",
       " '__setattr__',\n",
       " '__sizeof__',\n",
       " '__str__',\n",
       " '__subclasshook__']"
      ]
     },
     "execution_count": 48,
     "metadata": {},
     "output_type": "execute_result"
    }
   ],
   "source": [
    "dir(object)"
   ]
  },
  {
   "cell_type": "code",
   "execution_count": 49,
   "metadata": {},
   "outputs": [],
   "source": [
    "class Person:\n",
    "    pass"
   ]
  },
  {
   "cell_type": "code",
   "execution_count": 50,
   "metadata": {},
   "outputs": [],
   "source": [
    "p1 = Person()\n",
    "p2 = Person()"
   ]
  },
  {
   "cell_type": "code",
   "execution_count": null,
   "metadata": {},
   "outputs": [],
   "source": []
  },
  {
   "cell_type": "code",
   "execution_count": 51,
   "metadata": {},
   "outputs": [
    {
     "data": {
      "text/plain": [
       "(141367699022, 141367711232)"
      ]
     },
     "execution_count": 51,
     "metadata": {},
     "output_type": "execute_result"
    }
   ],
   "source": [
    "hash(p1), hash(p2)"
   ]
  },
  {
   "cell_type": "code",
   "execution_count": 52,
   "metadata": {},
   "outputs": [
    {
     "data": {
      "text/plain": [
       "False"
      ]
     },
     "execution_count": 52,
     "metadata": {},
     "output_type": "execute_result"
    }
   ],
   "source": [
    "p1 == p2"
   ]
  },
  {
   "cell_type": "code",
   "execution_count": 53,
   "metadata": {},
   "outputs": [
    {
     "data": {
      "text/plain": [
       "False"
      ]
     },
     "execution_count": 53,
     "metadata": {},
     "output_type": "execute_result"
    }
   ],
   "source": [
    " p1 is p2"
   ]
  },
  {
   "cell_type": "code",
   "execution_count": 54,
   "metadata": {},
   "outputs": [],
   "source": [
    "class Person:\n",
    "    def __init__(self, name):\n",
    "        self.name = name\n",
    "    \n",
    "    def __eq__(self, other):\n",
    "        return isinstance(other, Person) and self.name == other.name\n",
    "    \n",
    "    def __repr__(self):\n",
    "        return f\"Person(name={self.name})\""
   ]
  },
  {
   "cell_type": "code",
   "execution_count": 56,
   "metadata": {},
   "outputs": [],
   "source": [
    "p1 = Person('John')\n",
    "p2 = Person('John')\n",
    "p3 = Person('SHahhrokh')"
   ]
  },
  {
   "cell_type": "code",
   "execution_count": 57,
   "metadata": {},
   "outputs": [
    {
     "data": {
      "text/plain": [
       "True"
      ]
     },
     "execution_count": 57,
     "metadata": {},
     "output_type": "execute_result"
    }
   ],
   "source": [
    "p1 == p2"
   ]
  },
  {
   "cell_type": "code",
   "execution_count": 58,
   "metadata": {},
   "outputs": [
    {
     "data": {
      "text/plain": [
       "False"
      ]
     },
     "execution_count": 58,
     "metadata": {},
     "output_type": "execute_result"
    }
   ],
   "source": [
    "p1 == p3"
   ]
  },
  {
   "cell_type": "code",
   "execution_count": 59,
   "metadata": {},
   "outputs": [
    {
     "ename": "TypeError",
     "evalue": "unhashable type: 'Person'",
     "output_type": "error",
     "traceback": [
      "\u001b[1;31m---------------------------------------------------------------------------\u001b[0m",
      "\u001b[1;31mTypeError\u001b[0m                                 Traceback (most recent call last)",
      "Cell \u001b[1;32mIn[59], line 1\u001b[0m\n\u001b[1;32m----> 1\u001b[0m \u001b[38;5;28;43mhash\u001b[39;49m\u001b[43m(\u001b[49m\u001b[43mp1\u001b[49m\u001b[43m)\u001b[49m\n",
      "\u001b[1;31mTypeError\u001b[0m: unhashable type: 'Person'"
     ]
    }
   ],
   "source": [
    "hash(p1)"
   ]
  },
  {
   "cell_type": "code",
   "execution_count": 60,
   "metadata": {},
   "outputs": [
    {
     "ename": "TypeError",
     "evalue": "unhashable type: 'Person'",
     "output_type": "error",
     "traceback": [
      "\u001b[1;31m---------------------------------------------------------------------------\u001b[0m",
      "\u001b[1;31mTypeError\u001b[0m                                 Traceback (most recent call last)",
      "Cell \u001b[1;32mIn[60], line 1\u001b[0m\n\u001b[1;32m----> 1\u001b[0m d \u001b[38;5;241m=\u001b[39m {p1: \u001b[38;5;124m'\u001b[39m\u001b[38;5;124mJohn Cleese\u001b[39m\u001b[38;5;124m'\u001b[39m}\n",
      "\u001b[1;31mTypeError\u001b[0m: unhashable type: 'Person'"
     ]
    }
   ],
   "source": [
    "d = {p1: 'John Cleese'}"
   ]
  },
  {
   "cell_type": "code",
   "execution_count": 61,
   "metadata": {},
   "outputs": [],
   "source": [
    "p1.__hash__"
   ]
  },
  {
   "cell_type": "code",
   "execution_count": 62,
   "metadata": {},
   "outputs": [
    {
     "data": {
      "text/plain": [
       "NoneType"
      ]
     },
     "execution_count": 62,
     "metadata": {},
     "output_type": "execute_result"
    }
   ],
   "source": [
    "type(p1.__hash__)"
   ]
  },
  {
   "cell_type": "code",
   "execution_count": 80,
   "metadata": {},
   "outputs": [],
   "source": [
    "class Person:\n",
    "    def __init__(self, name):\n",
    "        self._name = name\n",
    "    \n",
    "    @property\n",
    "    def name(self):\n",
    "        return self._name\n",
    "     \n",
    "    def __eq__(self, other):\n",
    "        return isinstance(other, Person) and self.name == other.name\n",
    "    \n",
    "    def __hash__(self):\n",
    "        return hash(self.name)\n",
    "    \n",
    "    def __repr__(self):\n",
    "        return f\"Person(name={self.name})\"\n",
    "    \n",
    "    "
   ]
  },
  {
   "cell_type": "code",
   "execution_count": 83,
   "metadata": {},
   "outputs": [],
   "source": [
    "p1 = Person('shahrokh')\n",
    "p2 = Person('shahrokh')\n"
   ]
  },
  {
   "cell_type": "code",
   "execution_count": 84,
   "metadata": {},
   "outputs": [
    {
     "data": {
      "text/plain": [
       "2297881853502646823"
      ]
     },
     "execution_count": 84,
     "metadata": {},
     "output_type": "execute_result"
    }
   ],
   "source": [
    "hash(p1)"
   ]
  },
  {
   "cell_type": "code",
   "execution_count": 85,
   "metadata": {},
   "outputs": [
    {
     "data": {
      "text/plain": [
       "2297881853502646823"
      ]
     },
     "execution_count": 85,
     "metadata": {},
     "output_type": "execute_result"
    }
   ],
   "source": [
    "hash(p2)"
   ]
  },
  {
   "cell_type": "code",
   "execution_count": 70,
   "metadata": {},
   "outputs": [],
   "source": [
    "p1._name = 'hi'"
   ]
  },
  {
   "cell_type": "code",
   "execution_count": 71,
   "metadata": {},
   "outputs": [
    {
     "data": {
      "text/plain": [
       "'hi'"
      ]
     },
     "execution_count": 71,
     "metadata": {},
     "output_type": "execute_result"
    }
   ],
   "source": [
    "p1.name"
   ]
  },
  {
   "cell_type": "code",
   "execution_count": 1,
   "metadata": {},
   "outputs": [],
   "source": [
    "class Person:\n",
    "    pass"
   ]
  },
  {
   "cell_type": "code",
   "execution_count": 2,
   "metadata": {},
   "outputs": [],
   "source": [
    "p = Person()\n"
   ]
  },
  {
   "cell_type": "code",
   "execution_count": 3,
   "metadata": {},
   "outputs": [
    {
     "data": {
      "text/plain": [
       "True"
      ]
     },
     "execution_count": 3,
     "metadata": {},
     "output_type": "execute_result"
    }
   ],
   "source": [
    "bool(p)"
   ]
  },
  {
   "cell_type": "code",
   "execution_count": 4,
   "metadata": {},
   "outputs": [],
   "source": [
    "class MyList:\n",
    "    def __init__(self, length):\n",
    "        self._length = length\n",
    "    \n",
    "    def __len__(self):\n",
    "        print('__len__ called...')\n",
    "        return self._length\n",
    "    \n",
    "    \n",
    "    "
   ]
  },
  {
   "cell_type": "code",
   "execution_count": 5,
   "metadata": {},
   "outputs": [],
   "source": [
    "l1 = MyList(0)\n",
    "l2 = MyList(10)"
   ]
  },
  {
   "cell_type": "code",
   "execution_count": 6,
   "metadata": {},
   "outputs": [
    {
     "name": "stdout",
     "output_type": "stream",
     "text": [
      "__len__ called...\n"
     ]
    },
    {
     "data": {
      "text/plain": [
       "False"
      ]
     },
     "execution_count": 6,
     "metadata": {},
     "output_type": "execute_result"
    }
   ],
   "source": [
    "bool(l1)"
   ]
  },
  {
   "cell_type": "code",
   "execution_count": 7,
   "metadata": {},
   "outputs": [
    {
     "name": "stdout",
     "output_type": "stream",
     "text": [
      "__len__ called...\n"
     ]
    },
    {
     "data": {
      "text/plain": [
       "True"
      ]
     },
     "execution_count": 7,
     "metadata": {},
     "output_type": "execute_result"
    }
   ],
   "source": [
    "bool(l2)"
   ]
  },
  {
   "cell_type": "code",
   "execution_count": 8,
   "metadata": {},
   "outputs": [],
   "source": [
    "class MyList:\n",
    "    def __init__(self, length):\n",
    "        self._length = length\n",
    "    \n",
    "    def __len__(self):\n",
    "        print('__len__ called...')\n",
    "        return self._length\n",
    "    \n",
    "    def __bool__(self):\n",
    "        print('__bool__ called...,')\n",
    "        return self._length > 0\n",
    "    "
   ]
  },
  {
   "cell_type": "code",
   "execution_count": 10,
   "metadata": {},
   "outputs": [],
   "source": [
    "l1 = MyList(0)\n",
    "l2 = MyList(10)"
   ]
  },
  {
   "cell_type": "code",
   "execution_count": 11,
   "metadata": {},
   "outputs": [
    {
     "name": "stdout",
     "output_type": "stream",
     "text": [
      "__bool__ called...,\n"
     ]
    },
    {
     "data": {
      "text/plain": [
       "False"
      ]
     },
     "execution_count": 11,
     "metadata": {},
     "output_type": "execute_result"
    }
   ],
   "source": [
    "bool(l1)"
   ]
  },
  {
   "cell_type": "code",
   "execution_count": 12,
   "metadata": {},
   "outputs": [
    {
     "name": "stdout",
     "output_type": "stream",
     "text": [
      "__bool__ called...,\n"
     ]
    },
    {
     "data": {
      "text/plain": [
       "True"
      ]
     },
     "execution_count": 12,
     "metadata": {},
     "output_type": "execute_result"
    }
   ],
   "source": [
    "bool(l2)"
   ]
  },
  {
   "cell_type": "code",
   "execution_count": 15,
   "metadata": {},
   "outputs": [],
   "source": [
    "class Point:\n",
    "    def __init__(self, x,y):\n",
    "        self.x = x\n",
    "        self.y = y\n",
    "    def __bool__(self):\n",
    "        return self.x != 0 or self.y != 0\n",
    "    \n",
    "    \n",
    "    "
   ]
  },
  {
   "cell_type": "code",
   "execution_count": 16,
   "metadata": {},
   "outputs": [],
   "source": [
    "p1 = Point(0, 0)\n",
    "p2 = Point(1, 1)"
   ]
  },
  {
   "cell_type": "code",
   "execution_count": null,
   "metadata": {},
   "outputs": [],
   "source": [
    "bool(p)"
   ]
  },
  {
   "cell_type": "code",
   "execution_count": null,
   "metadata": {},
   "outputs": [],
   "source": [
    "class Point:\n",
    "    def __init__(self, x,y):\n",
    "        self.x = x\n",
    "        self.y = y\n",
    "    def __bool__(self):\n",
    "        return self.x != 0 or self.y != 0\n",
    "    \n",
    "    \n",
    "    "
   ]
  }
 ],
 "metadata": {
  "kernelspec": {
   "display_name": "Python 3",
   "language": "python",
   "name": "python3"
  },
  "language_info": {
   "codemirror_mode": {
    "name": "ipython",
    "version": 3
   },
   "file_extension": ".py",
   "mimetype": "text/x-python",
   "name": "python",
   "nbconvert_exporter": "python",
   "pygments_lexer": "ipython3",
   "version": "3.12.3"
  }
 },
 "nbformat": 4,
 "nbformat_minor": 2
}
