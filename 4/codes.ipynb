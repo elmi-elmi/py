{
 "cells": [
  {
   "cell_type": "markdown",
   "metadata": {},
   "source": [
    "# Iterating Collections"
   ]
  },
  {
   "cell_type": "markdown",
   "metadata": {},
   "source": [
    "s = {1,2,3,4}"
   ]
  },
  {
   "cell_type": "markdown",
   "metadata": {},
   "source": []
  },
  {
   "cell_type": "code",
   "execution_count": 1,
   "metadata": {},
   "outputs": [
    {
     "name": "stdout",
     "output_type": "stream",
     "text": [
      "hi\n"
     ]
    }
   ],
   "source": [
    "print('hi')"
   ]
  },
  {
   "cell_type": "code",
   "execution_count": 4,
   "metadata": {},
   "outputs": [
    {
     "name": "stdout",
     "output_type": "stream",
     "text": [
      "2\n",
      "3\n",
      "x\n",
      "4\n"
     ]
    }
   ],
   "source": [
    "s = {'x',2,3,4}\n",
    "for i in s:\n",
    "    print(i)"
   ]
  },
  {
   "cell_type": "code",
   "execution_count": 20,
   "metadata": {},
   "outputs": [],
   "source": [
    "class Squares:\n",
    "    def __init__(self, length):\n",
    "        self.i = 0\n",
    "        self.length = length \n",
    "    def __next__(self):\n",
    "        print('Your __next__')\n",
    "        if self.i >= self.length:\n",
    "            raise StopIteration('Stop iteration error')\n",
    "        else:\n",
    "            square = self.i ** 2\n",
    "            self.i += 1\n",
    "            return square  "
   ]
  },
  {
   "cell_type": "code",
   "execution_count": 23,
   "metadata": {},
   "outputs": [
    {
     "name": "stdout",
     "output_type": "stream",
     "text": [
      "Your __next__\n",
      "0\n",
      "Your __next__\n",
      "1\n",
      "Your __next__\n",
      "4\n",
      "Your __next__\n",
      "9\n",
      "Your __next__\n",
      "16\n",
      "Your __next__\n",
      "Stop iteration error\n"
     ]
    }
   ],
   "source": [
    "s = Squares(5)\n",
    "# for _ in range(5):\n",
    "#    print(s.next_()) \n",
    "   \n",
    "while True:\n",
    "   try:\n",
    "        print(next(s))\n",
    "   except StopIteration as e:\n",
    "    print(e)\n",
    "    break"
   ]
  },
  {
   "cell_type": "code",
   "execution_count": null,
   "metadata": {},
   "outputs": [],
   "source": []
  }
 ],
 "metadata": {
  "kernelspec": {
   "display_name": "Python 3",
   "language": "python",
   "name": "python3"
  },
  "language_info": {
   "codemirror_mode": {
    "name": "ipython",
    "version": 3
   },
   "file_extension": ".py",
   "mimetype": "text/x-python",
   "name": "python",
   "nbconvert_exporter": "python",
   "pygments_lexer": "ipython3",
   "version": "3.12.2"
  }
 },
 "nbformat": 4,
 "nbformat_minor": 2
}
